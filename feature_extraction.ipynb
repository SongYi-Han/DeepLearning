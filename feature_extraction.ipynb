{
  "nbformat": 4,
  "nbformat_minor": 0,
  "metadata": {
    "colab": {
      "name": "feature_extraction.ipynb",
      "provenance": []
    },
    "kernelspec": {
      "name": "python3",
      "display_name": "Python 3"
    },
    "language_info": {
      "name": "python"
    },
    "widgets": {
      "application/vnd.jupyter.widget-state+json": {
        "470c092a75024502a8b1803b6cb2dcea": {
          "model_module": "@jupyter-widgets/controls",
          "model_name": "HBoxModel",
          "model_module_version": "1.5.0",
          "state": {
            "_dom_classes": [],
            "_model_module": "@jupyter-widgets/controls",
            "_model_module_version": "1.5.0",
            "_model_name": "HBoxModel",
            "_view_count": null,
            "_view_module": "@jupyter-widgets/controls",
            "_view_module_version": "1.5.0",
            "_view_name": "HBoxView",
            "box_style": "",
            "children": [
              "IPY_MODEL_fab481cb17b54da6abc1bb489b36c75b",
              "IPY_MODEL_a40f5b7a3d784913a46d8f0fb58feee9",
              "IPY_MODEL_96ecb2fe360e4cacbe7ed00a86861f52"
            ],
            "layout": "IPY_MODEL_bb013646c21d442bac69dc7908ca26be"
          }
        },
        "fab481cb17b54da6abc1bb489b36c75b": {
          "model_module": "@jupyter-widgets/controls",
          "model_name": "HTMLModel",
          "model_module_version": "1.5.0",
          "state": {
            "_dom_classes": [],
            "_model_module": "@jupyter-widgets/controls",
            "_model_module_version": "1.5.0",
            "_model_name": "HTMLModel",
            "_view_count": null,
            "_view_module": "@jupyter-widgets/controls",
            "_view_module_version": "1.5.0",
            "_view_name": "HTMLView",
            "description": "",
            "description_tooltip": null,
            "layout": "IPY_MODEL_37d99e98d06944b1b0a8f0a8b82185fa",
            "placeholder": "​",
            "style": "IPY_MODEL_e63a4971e043419280db56de9994ff71",
            "value": "100%"
          }
        },
        "a40f5b7a3d784913a46d8f0fb58feee9": {
          "model_module": "@jupyter-widgets/controls",
          "model_name": "FloatProgressModel",
          "model_module_version": "1.5.0",
          "state": {
            "_dom_classes": [],
            "_model_module": "@jupyter-widgets/controls",
            "_model_module_version": "1.5.0",
            "_model_name": "FloatProgressModel",
            "_view_count": null,
            "_view_module": "@jupyter-widgets/controls",
            "_view_module_version": "1.5.0",
            "_view_name": "ProgressView",
            "bar_style": "success",
            "description": "",
            "description_tooltip": null,
            "layout": "IPY_MODEL_3cc909e9ad474f81bc1dc636cf001249",
            "max": 46830571,
            "min": 0,
            "orientation": "horizontal",
            "style": "IPY_MODEL_ff0351dffe9f44b288a24165dfcd18c0",
            "value": 46830571
          }
        },
        "96ecb2fe360e4cacbe7ed00a86861f52": {
          "model_module": "@jupyter-widgets/controls",
          "model_name": "HTMLModel",
          "model_module_version": "1.5.0",
          "state": {
            "_dom_classes": [],
            "_model_module": "@jupyter-widgets/controls",
            "_model_module_version": "1.5.0",
            "_model_name": "HTMLModel",
            "_view_count": null,
            "_view_module": "@jupyter-widgets/controls",
            "_view_module_version": "1.5.0",
            "_view_name": "HTMLView",
            "description": "",
            "description_tooltip": null,
            "layout": "IPY_MODEL_b0a415664ecf4dc0a86e57e45335d10b",
            "placeholder": "​",
            "style": "IPY_MODEL_09bd9a2b93e64e4a8e07c7b24e08fdb0",
            "value": " 44.7M/44.7M [00:00&lt;00:00, 109MB/s]"
          }
        },
        "bb013646c21d442bac69dc7908ca26be": {
          "model_module": "@jupyter-widgets/base",
          "model_name": "LayoutModel",
          "model_module_version": "1.2.0",
          "state": {
            "_model_module": "@jupyter-widgets/base",
            "_model_module_version": "1.2.0",
            "_model_name": "LayoutModel",
            "_view_count": null,
            "_view_module": "@jupyter-widgets/base",
            "_view_module_version": "1.2.0",
            "_view_name": "LayoutView",
            "align_content": null,
            "align_items": null,
            "align_self": null,
            "border": null,
            "bottom": null,
            "display": null,
            "flex": null,
            "flex_flow": null,
            "grid_area": null,
            "grid_auto_columns": null,
            "grid_auto_flow": null,
            "grid_auto_rows": null,
            "grid_column": null,
            "grid_gap": null,
            "grid_row": null,
            "grid_template_areas": null,
            "grid_template_columns": null,
            "grid_template_rows": null,
            "height": null,
            "justify_content": null,
            "justify_items": null,
            "left": null,
            "margin": null,
            "max_height": null,
            "max_width": null,
            "min_height": null,
            "min_width": null,
            "object_fit": null,
            "object_position": null,
            "order": null,
            "overflow": null,
            "overflow_x": null,
            "overflow_y": null,
            "padding": null,
            "right": null,
            "top": null,
            "visibility": null,
            "width": null
          }
        },
        "37d99e98d06944b1b0a8f0a8b82185fa": {
          "model_module": "@jupyter-widgets/base",
          "model_name": "LayoutModel",
          "model_module_version": "1.2.0",
          "state": {
            "_model_module": "@jupyter-widgets/base",
            "_model_module_version": "1.2.0",
            "_model_name": "LayoutModel",
            "_view_count": null,
            "_view_module": "@jupyter-widgets/base",
            "_view_module_version": "1.2.0",
            "_view_name": "LayoutView",
            "align_content": null,
            "align_items": null,
            "align_self": null,
            "border": null,
            "bottom": null,
            "display": null,
            "flex": null,
            "flex_flow": null,
            "grid_area": null,
            "grid_auto_columns": null,
            "grid_auto_flow": null,
            "grid_auto_rows": null,
            "grid_column": null,
            "grid_gap": null,
            "grid_row": null,
            "grid_template_areas": null,
            "grid_template_columns": null,
            "grid_template_rows": null,
            "height": null,
            "justify_content": null,
            "justify_items": null,
            "left": null,
            "margin": null,
            "max_height": null,
            "max_width": null,
            "min_height": null,
            "min_width": null,
            "object_fit": null,
            "object_position": null,
            "order": null,
            "overflow": null,
            "overflow_x": null,
            "overflow_y": null,
            "padding": null,
            "right": null,
            "top": null,
            "visibility": null,
            "width": null
          }
        },
        "e63a4971e043419280db56de9994ff71": {
          "model_module": "@jupyter-widgets/controls",
          "model_name": "DescriptionStyleModel",
          "model_module_version": "1.5.0",
          "state": {
            "_model_module": "@jupyter-widgets/controls",
            "_model_module_version": "1.5.0",
            "_model_name": "DescriptionStyleModel",
            "_view_count": null,
            "_view_module": "@jupyter-widgets/base",
            "_view_module_version": "1.2.0",
            "_view_name": "StyleView",
            "description_width": ""
          }
        },
        "3cc909e9ad474f81bc1dc636cf001249": {
          "model_module": "@jupyter-widgets/base",
          "model_name": "LayoutModel",
          "model_module_version": "1.2.0",
          "state": {
            "_model_module": "@jupyter-widgets/base",
            "_model_module_version": "1.2.0",
            "_model_name": "LayoutModel",
            "_view_count": null,
            "_view_module": "@jupyter-widgets/base",
            "_view_module_version": "1.2.0",
            "_view_name": "LayoutView",
            "align_content": null,
            "align_items": null,
            "align_self": null,
            "border": null,
            "bottom": null,
            "display": null,
            "flex": null,
            "flex_flow": null,
            "grid_area": null,
            "grid_auto_columns": null,
            "grid_auto_flow": null,
            "grid_auto_rows": null,
            "grid_column": null,
            "grid_gap": null,
            "grid_row": null,
            "grid_template_areas": null,
            "grid_template_columns": null,
            "grid_template_rows": null,
            "height": null,
            "justify_content": null,
            "justify_items": null,
            "left": null,
            "margin": null,
            "max_height": null,
            "max_width": null,
            "min_height": null,
            "min_width": null,
            "object_fit": null,
            "object_position": null,
            "order": null,
            "overflow": null,
            "overflow_x": null,
            "overflow_y": null,
            "padding": null,
            "right": null,
            "top": null,
            "visibility": null,
            "width": null
          }
        },
        "ff0351dffe9f44b288a24165dfcd18c0": {
          "model_module": "@jupyter-widgets/controls",
          "model_name": "ProgressStyleModel",
          "model_module_version": "1.5.0",
          "state": {
            "_model_module": "@jupyter-widgets/controls",
            "_model_module_version": "1.5.0",
            "_model_name": "ProgressStyleModel",
            "_view_count": null,
            "_view_module": "@jupyter-widgets/base",
            "_view_module_version": "1.2.0",
            "_view_name": "StyleView",
            "bar_color": null,
            "description_width": ""
          }
        },
        "b0a415664ecf4dc0a86e57e45335d10b": {
          "model_module": "@jupyter-widgets/base",
          "model_name": "LayoutModel",
          "model_module_version": "1.2.0",
          "state": {
            "_model_module": "@jupyter-widgets/base",
            "_model_module_version": "1.2.0",
            "_model_name": "LayoutModel",
            "_view_count": null,
            "_view_module": "@jupyter-widgets/base",
            "_view_module_version": "1.2.0",
            "_view_name": "LayoutView",
            "align_content": null,
            "align_items": null,
            "align_self": null,
            "border": null,
            "bottom": null,
            "display": null,
            "flex": null,
            "flex_flow": null,
            "grid_area": null,
            "grid_auto_columns": null,
            "grid_auto_flow": null,
            "grid_auto_rows": null,
            "grid_column": null,
            "grid_gap": null,
            "grid_row": null,
            "grid_template_areas": null,
            "grid_template_columns": null,
            "grid_template_rows": null,
            "height": null,
            "justify_content": null,
            "justify_items": null,
            "left": null,
            "margin": null,
            "max_height": null,
            "max_width": null,
            "min_height": null,
            "min_width": null,
            "object_fit": null,
            "object_position": null,
            "order": null,
            "overflow": null,
            "overflow_x": null,
            "overflow_y": null,
            "padding": null,
            "right": null,
            "top": null,
            "visibility": null,
            "width": null
          }
        },
        "09bd9a2b93e64e4a8e07c7b24e08fdb0": {
          "model_module": "@jupyter-widgets/controls",
          "model_name": "DescriptionStyleModel",
          "model_module_version": "1.5.0",
          "state": {
            "_model_module": "@jupyter-widgets/controls",
            "_model_module_version": "1.5.0",
            "_model_name": "DescriptionStyleModel",
            "_view_count": null,
            "_view_module": "@jupyter-widgets/base",
            "_view_module_version": "1.2.0",
            "_view_name": "StyleView",
            "description_width": ""
          }
        }
      }
    }
  },
  "cells": [
    {
      "cell_type": "markdown",
      "source": [
        "## Data Preparation\n"
      ],
      "metadata": {
        "id": "ZKGJdexko5ZP"
      }
    },
    {
      "cell_type": "markdown",
      "source": [
        "### 1. Download the dataset \n",
        "\n",
        "In this task, we will use part of dataset of the Fruits and Vegetables from Kaggle : https://www.kaggle.com/datasets/kritikseth/fruit-and-vegetable-image-recognition"
      ],
      "metadata": {
        "id": "YiEZUGs9pNKD"
      }
    },
    {
      "cell_type": "code",
      "execution_count": 1,
      "metadata": {
        "colab": {
          "base_uri": "https://localhost:8080/"
        },
        "id": "QrL1J-yEnrOP",
        "outputId": "5d376d89-3b16-431e-b3ac-52473baae511"
      },
      "outputs": [
        {
          "output_type": "stream",
          "name": "stdout",
          "text": [
            "Downloaded datafile fruits.zip\n"
          ]
        }
      ],
      "source": [
        "import os\n",
        "dataset_zip_file = \"fruits.zip\"\n",
        "if not os.path.exists(dataset_zip_file):\n",
        "  import urllib.request\n",
        "  urllib.request.urlretrieve(\"https://seafile.ifi.uzh.ch/f/72e1d9c4ef20420eb1d9/?dl=1\", dataset_zip_file)\n",
        "  print (\"Downloaded datafile\", dataset_zip_file)\n",
        "  import zipfile\n",
        "  zipfile.ZipFile(dataset_zip_file).extractall()"
      ]
    },
    {
      "cell_type": "markdown",
      "source": [
        "### 2. Data transformation \n",
        "Since we will use networks pre-trained on ImageNet, we need to perform the exact same transform as used for ImageNet testing.\n",
        "We need to instantiate a proper `torchvision.transform` instance to create the same input structure as used for training our network.  \n",
        "\n",
        "We need to combine 4 transforms, which can be compiled from the PyTorch website: https://pytorch.org/vision/stable/models.html\n",
        "\n",
        "1. resize the image such that the shorter side has size 256.\n",
        "2. take the center crop of size $224\\times224$ from the image.\n",
        "3. convert the image into a tensor (including pixel values scaling)\n",
        "4. normalize the pixel values with mean $(0.485, 0.456, 0.406)$ and standard deviation $(0.229, 0.224, 0.225)\n",
        "\n"
      ],
      "metadata": {
        "id": "61A10Q4PqGYm"
      }
    },
    {
      "cell_type": "code",
      "source": [
        "import torch\n",
        "import torchvision\n",
        "\n",
        "imagenet_transform = torchvision.transforms.Compose((\n",
        "    torchvision.transforms.Resize(256),\n",
        "    torchvision.transforms.CenterCrop(224),\n",
        "    torchvision.transforms.ToTensor(),\n",
        "    torchvision.transforms.Normalize(mean=[0.485,0.456,0.406], std=[0.229,0.224,0.225])\n",
        "))"
      ],
      "metadata": {
        "id": "tlMkGiiFqvpQ"
      },
      "execution_count": 4,
      "outputs": []
    },
    {
      "cell_type": "markdown",
      "source": [
        "### 3. Dataset Load \n",
        "We here use the `torchvision.datasets.ImageFolder` dataset interface for processing images. https://pytorch.org/vision/stable/generated/torchvision.datasets.ImageFolder.html\n",
        "\n",
        "You can use its documented `is_valid_file` parameter to distinguish between training and test set.\n",
        "The training files are all called `gallery.jpg` while test files are called `probe.jpg`.\n"
      ],
      "metadata": {
        "id": "LlRQdnLhs7T1"
      }
    },
    {
      "cell_type": "code",
      "source": [
        "trainset = torchvision.datasets.ImageFolder(\n",
        "  root = \"fruits\",\n",
        "  transform = imagenet_transform,\n",
        "  is_valid_file= lambda x: os.path.basename(x) == \"gallery.jpg\"\n",
        ")\n",
        "\n",
        "testset = torchvision.datasets.ImageFolder(\n",
        "  root = \"fruits\",\n",
        "  transform = imagenet_transform,\n",
        "  is_valid_file= lambda x: os.path.basename(x) == \"probe.jpg\"\n",
        "\n",
        ")"
      ],
      "metadata": {
        "id": "r_68lq-ltAtI"
      },
      "execution_count": 6,
      "outputs": []
    },
    {
      "cell_type": "markdown",
      "source": [
        "## Instantiate Pre-trained Network\n",
        "\n",
        "Instantiate a pre-trained network of type ResNet-18. \n",
        "Modify the network such that we extract the deep features from before the last fully-connected layer of the network.\n",
        "For your reference, the implementation of the `forward` function of ResNet networks (including ResNet-18) can be found here: https://github.com/pytorch/vision/blob/main/torchvision/models/resnet.py#L264\n",
        "\n",
        "You can also check if other networks perform better, especially deeper ResNet topologies.\n",
        "Be aware that our strategy to remove the last fully-connected layer might not work in other network topologies, only in residual networks.\n",
        "\n",
        "Please Note: while we modify the `forward` function, we will still use the `__call__` function to extract our features."
      ],
      "metadata": {
        "id": "CMJ5Bctkvk6P"
      }
    },
    {
      "cell_type": "code",
      "source": [
        "# instantiate pre-trained resnet 18 network\n",
        "network = torchvision.models.resnet18(pretrained=True)\n",
        "network.eval()\n",
        "\n",
        "# make sure that deep features can be etxracted from the network\n",
        "network.fc = torch.nn.Identity() # overwrite last layer to identity"
      ],
      "metadata": {
        "colab": {
          "base_uri": "https://localhost:8080/",
          "height": 66,
          "referenced_widgets": [
            "470c092a75024502a8b1803b6cb2dcea",
            "fab481cb17b54da6abc1bb489b36c75b",
            "a40f5b7a3d784913a46d8f0fb58feee9",
            "96ecb2fe360e4cacbe7ed00a86861f52",
            "bb013646c21d442bac69dc7908ca26be",
            "37d99e98d06944b1b0a8f0a8b82185fa",
            "e63a4971e043419280db56de9994ff71",
            "3cc909e9ad474f81bc1dc636cf001249",
            "ff0351dffe9f44b288a24165dfcd18c0",
            "b0a415664ecf4dc0a86e57e45335d10b",
            "09bd9a2b93e64e4a8e07c7b24e08fdb0"
          ]
        },
        "id": "UvjU-r6dvY84",
        "outputId": "8901b1db-0f79-406a-dbc7-4c98874fdf28"
      },
      "execution_count": 5,
      "outputs": [
        {
          "output_type": "stream",
          "name": "stderr",
          "text": [
            "Downloading: \"https://download.pytorch.org/models/resnet18-f37072fd.pth\" to /root/.cache/torch/hub/checkpoints/resnet18-f37072fd.pth\n"
          ]
        },
        {
          "output_type": "display_data",
          "data": {
            "text/plain": [
              "  0%|          | 0.00/44.7M [00:00<?, ?B/s]"
            ],
            "application/vnd.jupyter.widget-view+json": {
              "version_major": 2,
              "version_minor": 0,
              "model_id": "470c092a75024502a8b1803b6cb2dcea"
            }
          },
          "metadata": {}
        }
      ]
    },
    {
      "cell_type": "markdown",
      "source": [
        "## Extract Feature\n",
        "\n",
        "- Implement a function that extracts all features for a given dataset.\n",
        "- Store the results in a dictionary: `target : feature`.\n",
        "- Extract the features for the training and the test set."
      ],
      "metadata": {
        "id": "jODQj5HAxMnw"
      }
    },
    {
      "cell_type": "code",
      "source": [
        "def extract(network, dataset):\n",
        "  features = {}\n",
        "  with torch.no_grad():\n",
        "    for x,t in dataset:\n",
        "      features[t] = network(x.unsqueeze(0))\n",
        "  return features "
      ],
      "metadata": {
        "id": "LJGXxvbIxk4X"
      },
      "execution_count": 7,
      "outputs": []
    },
    {
      "cell_type": "code",
      "source": [
        "train_features = extract(network, trainset)\n",
        "test_features = extract(network, testset) "
      ],
      "metadata": {
        "id": "OT57UNvBymIZ"
      },
      "execution_count": 8,
      "outputs": []
    },
    {
      "cell_type": "markdown",
      "source": [
        "## Similarity Computation \n",
        "\n",
        "Compute the cosine similarity between all samples in training and test set\n",
        "https://pytorch.org/docs/stable/generated/torch.nn.functional.cosine_similarity.html\n"
      ],
      "metadata": {
        "id": "tu149x-czSQl"
      }
    },
    {
      "cell_type": "code",
      "source": [
        "keys = train_features.keys()\n",
        "classes = len(keys)\n",
        "similarities = torch.empty((classes,classes))\n",
        "\n",
        "with torch.no_grad():\n",
        "  for o, c1 in enumerate(keys):\n",
        "    for t, c2 in enumerate(keys):\n",
        "      similarities[t,o] = torch.nn.functional.cosine_similarity(train_features[c1], test_features[c2], dim=1).item()"
      ],
      "metadata": {
        "id": "qo8Zmi8Szlod"
      },
      "execution_count": 9,
      "outputs": []
    },
    {
      "cell_type": "markdown",
      "source": [
        "## Visualize Similarity"
      ],
      "metadata": {
        "id": "VSngrrpkzk1I"
      }
    },
    {
      "cell_type": "code",
      "source": [
        "from matplotlib import pyplot\n",
        "\n",
        "pyplot.imshow(similarities)\n",
        "pyplot.xlabel(\"Training class\")\n",
        "pyplot.ylabel(\"Test class\")"
      ],
      "metadata": {
        "colab": {
          "base_uri": "https://localhost:8080/",
          "height": 296
        },
        "id": "5ZN6poQu1PWy",
        "outputId": "bd4c9d4f-0be1-460e-fae9-d062af8f6cb7"
      },
      "execution_count": 18,
      "outputs": [
        {
          "output_type": "execute_result",
          "data": {
            "text/plain": [
              "Text(0, 0.5, 'Test class')"
            ]
          },
          "metadata": {},
          "execution_count": 18
        },
        {
          "output_type": "display_data",
          "data": {
            "text/plain": [
              "<Figure size 432x288 with 1 Axes>"
            ],
            "image/png": "[encoded data removed]"
          },
          "metadata": {
            "needs_background": "light"
          }
        }
      ]
    },
    {
      "cell_type": "markdown",
      "source": [
        "## Classification Accuracy\n",
        "\n",
        "Compute the classification accuracy by checking if the class of highest similarity for a test sample is the correct class."
      ],
      "metadata": {
        "id": "iQtmdSm-3jhH"
      }
    },
    {
      "cell_type": "code",
      "source": [
        "indexes = [torch.argmax(similarities[t]).item() for t in range(classes)] ## ?\n",
        "correct = [indexes[t] == t for t in range(classes)]\n",
        "accuracy = sum(correct) / classes\n",
        "\n",
        "print(\"Accuracy is\", accuracy)\n",
        "                      "
      ],
      "metadata": {
        "colab": {
          "base_uri": "https://localhost:8080/"
        },
        "id": "2RaftWDS4NBV",
        "outputId": "e42bb4f4-d11a-452f-e62c-ef2f903f30b2"
      },
      "execution_count": 20,
      "outputs": [
        {
          "output_type": "stream",
          "name": "stdout",
          "text": [
            "Accuracy is 0.7857142857142857\n"
          ]
        }
      ]
    },
    {
      "cell_type": "markdown",
      "source": [
        "## Find Misclassified Images and Classes\n",
        "\n",
        "\n",
        "Find the test samples that are incorrectly classified. \n",
        "Get the class names (not only indexes) and write the names of the test sample class as well as the class that it was classified as.\n",
        "\n",
        "What are the two most dissimilar classes?"
      ],
      "metadata": {
        "id": "KVzA-PRI5LkU"
      }
    },
    {
      "cell_type": "code",
      "source": [
        "names = sorted(os.listdir(\"fruits\"))\n",
        "\n",
        "for t in range(classes):\n",
        "  if not correct[t]:\n",
        "    print(\"Probe image of class\", t, \"which is\", names[t], \"was classified as\", indexes[t], names[indexes[t]])"
      ],
      "metadata": {
        "colab": {
          "base_uri": "https://localhost:8080/"
        },
        "id": "JoS_OqcA5PID",
        "outputId": "c40c902a-ebcd-4e84-c6f9-5c68e96f69cf"
      },
      "execution_count": 22,
      "outputs": [
        {
          "output_type": "stream",
          "name": "stdout",
          "text": [
            "Probe image of class 5 which is ginger was classified as 11 potato\n",
            "Probe image of class 7 which is lemon was classified as 9 orange\n",
            "Probe image of class 8 which is onion was classified as 4 garlic\n"
          ]
        }
      ]
    },
    {
      "cell_type": "code",
      "source": [
        "import numpy as np\n",
        "\n",
        "t, o = np.unravel_index(np.argmin(similarities), similarities.shape)\n",
        "print(t, names[t], \"is most dissimilar to\", o, names[o])"
      ],
      "metadata": {
        "colab": {
          "base_uri": "https://localhost:8080/"
        },
        "id": "6yo2B8_76jTn",
        "outputId": "832ef2ae-68b5-406f-cfb7-1e5c813c634f"
      },
      "execution_count": 24,
      "outputs": [
        {
          "output_type": "stream",
          "name": "stdout",
          "text": [
            "11 potato is most dissimilar to 2 carrot\n"
          ]
        }
      ]
    }
  ]
}