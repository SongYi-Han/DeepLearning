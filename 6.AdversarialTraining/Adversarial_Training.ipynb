{
 "cells": [
  {
   "cell_type": "markdown",
   "metadata": {
    "id": "I7JXUuIkdVAd"
   },
   "source": [
    "Adversarial Training\n",
    "===================================\n",
    "\n",
    "\n",
    "* Adversarial training provides stability against adversarial attacks \n",
    "* Objective: Compare following three different types of training procedures:\n",
    "\n",
    "    1. Train with only the original samples\n",
    "    2. Train with original samples and added random noise\n",
    "    3. Train with original samples and adversarial samples\n",
    "\n",
    "\n"
   ]
  },
  {
   "cell_type": "markdown",
   "metadata": {
    "id": "38mFKnM8SGwG"
   },
   "source": [
    "## 1. Load Dataset\n",
    "\n",
    "* make use of the default implementations of the MNIST dataset.\n",
    "* Select appropriate batch sizes for training and validation set."
   ]
  },
  {
   "cell_type": "code",
   "execution_count": null,
   "metadata": {
    "id": "3GNA51i_dVAf"
   },
   "outputs": [],
   "source": [
    "import torch\n",
    "import torchvision\n",
    "\n",
    "# training set and data loader\n",
    "train_set = torchvision.datasets.MNIST(root='temp', train=True, download=True, transform=torchvision.transforms.ToTensor())\n",
    "train_loader = torch.utils.data.DataLoader(train_set, batch_size=32, shuffle=True)\n",
    "\n",
    "# validation set and data loader\n",
    "validation_set = torchvision.datasets.MNIST(root='temp', train=False, download=True, transform=torchvision.transforms.ToTensor())\n",
    "validation_loader = torch.utils.data.DataLoader(validation_set, batch_size=100)\n",
    "\n",
    "device = torch.device(\"cuda\")"
   ]
  },
  {
   "cell_type": "markdown",
   "metadata": {
    "id": "RcyNSI2GdVAg"
   },
   "source": [
    "## 2: Classification Network\n",
    "------------------------------\n",
    "* define simple small-scale CNN network  "
   ]
  },
  {
   "cell_type": "code",
   "execution_count": null,
   "metadata": {
    "id": "cm_NHM3SdVAg"
   },
   "outputs": [],
   "source": [
    "class Network (torch.nn.Module):\n",
    "  def __init__(self, Q1, Q2, K, O):\n",
    "    # call base class constrcutor\n",
    "    super(Network,self).__init__()\n",
    "    self.conv1 = torch.nn.Conv2d(in_channels=1,out_channels=Q1,kernel_size=5,stride=1,padding=2)\n",
    "    self.conv2 = torch.nn.Conv2d(in_channels=Q1,out_channels=Q2,kernel_size=5,stride=1,padding=2)\n",
    "    self.pool = torch.nn.MaxPool2d(kernel_size=(2,2),stride=2)\n",
    "    self.act = torch.nn.ReLU()\n",
    "    self.flatten = torch.nn.Flatten()\n",
    "    self.fc1 = torch.nn.Linear(7*7*Q2, K, bias=True)\n",
    "    self.fc2 = torch.nn.Linear(K, O, bias=False)\n",
    "\n",
    "  def forward(self,x):\n",
    "    a = self.act(self.pool(self.conv1(x)))\n",
    "    a = self.act(self.pool(self.conv2(a)))\n",
    "    deep_features = self.fc1(self.flatten(a))\n",
    "    logits = self.fc2(deep_features)\n",
    "    return logits"
   ]
  },
  {
   "cell_type": "markdown",
   "metadata": {
    "id": "r5irwAdedVAh"
   },
   "source": [
    "## 3: Fast Gradient Sign\n",
    "--------------------------\n",
    "\n",
    "For adversarial training, we need to implement a function to generate an adversarial sample for a given input.\n",
    "Here, we are implementing the Fast Gradient Sign method, which modifies the given input by adding a scaled version of the sign of the gradient:\n",
    "\n",
    "$$\\mathbf X_{\\mathrm{FGS}} = \\mathbf X + \\alpha\\,\\mathrm{sign}(\\nabla_{\\mathbf X} \\mathcal J)$$\n",
    "\n",
    "Finally, the result needs to be clamped to be in range $[0,1]$.\n",
    "\n",
    "Note that this function will be used with batches of samples."
   ]
  },
  {
   "cell_type": "code",
   "execution_count": null,
   "metadata": {
    "id": "m59TiFa0dVAh"
   },
   "outputs": [],
   "source": [
    "def FGS(x, t, network, loss, alpha=0.3):\n",
    "  # tell autograd that we need the gradient for the input\n",
    "  X = x.to(device)\n",
    "  X.requires_grad_(True)\n",
    "\n",
    "  # forward input\n",
    "  z = network(X) # == network.forward(X)\n",
    "\n",
    "  # compute loss and gradient\n",
    "  J = loss(z,t.to(device))\n",
    "  J.backward()\n",
    "\n",
    "  # skip the optiizer.step()\n",
    "\n",
    "  # get the gradient\n",
    "  gradient = X.grad\n",
    "\n",
    "  # create FGS adversarial sample\n",
    "  adversarial_sample = torch.clamp(x + alpha*torch.sign(gradient), min=0, max=1)\n",
    "\n",
    "  return adversarial_sample"
   ]
  },
  {
   "cell_type": "markdown",
   "metadata": {
    "id": "1s-R9x4zdVAh"
   },
   "source": [
    "## 4: Random Noise\n",
    "--------------------\n",
    "For comparison, we want a function that produces noise similar to FGS, which we add to the image:\n",
    "\n",
    "$$\\mathbf X_{\\mathrm{noise}} = \\mathbf X + \\alpha \\{-1,1\\} ^{D\\times E}$$\n",
    "\n",
    "Here, $-1$ and $1$ are sampled with the same probability, and independently for each pixel.\n",
    "\n",
    "Again, we clamp the results to be in range $[0,1]$.\n",
    "\n",
    "Note that this function will also be used with batches of samples."
   ]
  },
  {
   "cell_type": "code",
   "execution_count": null,
   "metadata": {
    "id": "tRvSb28cdVAi"
   },
   "outputs": [],
   "source": [
    "def noise(x, alpha=0.3, **kwargs):\n",
    "  x = x.to(device)\n",
    "  # generate noise\n",
    "  N = torch.randint(low=0, high=1, size=x.shape, device=device)\n",
    "  N[N==0] = -1\n",
    "  # Add noise and clamp\n",
    "  noisy_sample = torch.clamp(x+alpha*N, min=0, max=1)\n",
    "\n",
    "  return noisy_sample"
   ]
  },
  {
   "cell_type": "markdown",
   "metadata": {
    "id": "7A4bVQntdVAi"
   },
   "source": [
    "## 5: Training Loop\n",
    "---------------------\n",
    "\n",
    "Implement a training and validation loop that possibly includes training with adversarial or with noise samples.\n",
    "This loop iterates over all training batches once, i.e., we implement one epoch of training here.\n"
   ]
  },
  {
   "cell_type": "code",
   "execution_count": null,
   "metadata": {
    "id": "bj8YFm0cdVAi"
   },
   "outputs": [],
   "source": [
    "from tqdm.notebook import tqdm\n",
    "\n",
    "def training_loop(network, loss, optimizer, add_additional_samples = None, alpha=0.3):\n",
    "  train_loss = 0\n",
    "  adversarial_loss = 0\n",
    "  network.to(device)\n",
    " \n",
    "  for x,t in tqdm(train_loader):\n",
    "    x = x.to(device)\n",
    "    optimizer.zero_grad()\n",
    "    # compute output for current batch\n",
    "    z = network(x)\n",
    "    # compute loss\n",
    "    J = loss(z.to(device), t.to(device))\n",
    "    train_loss+=J.item()\n",
    "    # compute gradient\n",
    "    J.backward()\n",
    "    optimizer.step()\n",
    "\n",
    "    if add_additional_samples is not None:\n",
    "      # compute modified samples for batch\n",
    "      if add_additional_samples == \"FGS\":\n",
    "        # create FGS adversarial samples\n",
    "        x_hat = FGS(x,t,network,loss,alpha=alpha)\n",
    "      else:\n",
    "        # create noisy samples\n",
    "        x_hat = noise(x, alpha=alpha)\n",
    "      \n",
    "      optimizer.zero_grad()\n",
    "      # compute output for modified samples\n",
    "      z_hat = network(x_hat.to(device))\n",
    "      # compute loss on modified samples\n",
    "      J = loss(z_hat.to(device),t.to(device))\n",
    "      adversarial_loss+=J.item()\n",
    "      # compute gradient\n",
    "      J.backward()\n",
    "      optimizer.step()"
   ]
  },
  {
   "cell_type": "markdown",
   "metadata": {
    "id": "RdQ9aUh6dVAj"
   },
   "source": [
    "## 6: Validation Loop\n",
    "-----------------------\n",
    "\n",
    "* compute both the classification accuracy and the adversarial stability for the validation set.\n",
    "* For each batch, first we select the correctly classified images.\n",
    "For these, we generate FGS adversarial samples.\n",
    "* Finally, we test whether these adversarial samples are classified as the original classes.\n",
    "\n",
    "* Compute classification accuracy and adversarial accuracy on the whole test set.\n",
    "* Think about how to normalize the adversarial accuracy."
   ]
  },
  {
   "cell_type": "code",
   "execution_count": null,
   "metadata": {
    "id": "zQ4WdAigdVAj"
   },
   "outputs": [],
   "source": [
    "def validation_loop(network, loss, alpha=0.3):\n",
    "  total, correct_clean_count, correct_adversarial_count = 0,0,0\n",
    "\n",
    "  # iterate over validation set samples\n",
    "  for x,t in validation_loader:\n",
    "    x,t = x.to(device), t.to(device)\n",
    "    total += x.shape[0] # == len(x)\n",
    "\n",
    "    with torch.no_grad():\n",
    "      # classify original samples\n",
    "      z = network(x)\n",
    "      # compute classification accuracy on original samples\n",
    "      correct = torch.argmax(z,dim=1) == t\n",
    "      correct_clean_count += torch.sum(correct).item()\n",
    "      '''\n",
    "      p = torch.nn.functional.softmax(z, dim=1)\n",
    "      correct_clean_count += sum(torch.argmax(p,dim=1)==t).item()\n",
    "      '''\n",
    "    # select the correctly classified samples\n",
    "    xx = x[correct] # x = x[torch.argmax(p,dim=1)==t]\n",
    "    tt = t[correct] # t = t[torch.argmax(p,dim=1)==t]\n",
    "\n",
    "    # create adversarial samples using FGS\n",
    "    x_FGS = FGS(xx,tt,network,loss,alpha)\n",
    "\n",
    "    # check how many are correctly classified\n",
    "    with torch.no_grad():\n",
    "      # classify adversarial samples\n",
    "      z_FGS = network(x_FGS)\n",
    "      \n",
    "      # compute classification accuracy on adversarial samples\n",
    "      correct_adversarial_count += torch.sum(torch.argmax(z_FGS,fim=1)==tt).item()\n",
    "      '''\n",
    "      p_FGS = torch.nn.functional.softmax(z_FGS, dim=1)\n",
    "      correct_adversarial_count += sum(torch.argmax(p_FGS,dim=1)==t).item()\n",
    "      '''\n",
    "  # compute clean and adversarial accuracy and return them\n",
    "  clean_accuracy = correct_clean_count / total\n",
    "  adversarial_accuracy = correct_adversarial_count / total / clean_accuracy # correct_adversarial_count/correct_clean_count\n",
    "\n",
    "  return clean_accuracy, adversarial_accuracy"
   ]
  },
  {
   "cell_type": "markdown",
   "metadata": {
    "id": "Mz38rVC_dVAj"
   },
   "source": [
    "## 7: Training of Three Networks\n",
    "----------------------------------\n",
    "\n",
    "* Instantiate three different but identical networks.\n",
    "* Instantiate according optimizers that train these networks.\n",
    "* Train these networks for 10 epochs.\n",
    "* The first network will be trained on clean samples only.\n",
    "* The second network will be trained using adversarial samples.\n",
    "* The third network will be trained with noise samples.\n",
    "\n",
    "* Evaluate all three networks on the validation set, and record clean and adversarial classification accuracies.\n",
    "\n",
    "* Note that the training time is extended as compared to a normal training since the creation of adversarial samples requires time."
   ]
  },
  {
   "cell_type": "code",
   "execution_count": null,
   "metadata": {
    "id": "G4lWMD_ZMpkE"
   },
   "outputs": [],
   "source": [
    "# define sample types\n",
    "additionals = (None, \"FGS\", \"noise\")\n",
    "\n",
    "# define one network for each and assign a separate optimizer for each \n",
    "networks = {k:Network(32,32,100,10).to(device) for k in additionals}\n",
    "optimizers = {k:torch.optim.SGD(networks[k].raeameters(), lr=0.01, momentum=0.0) for k in additionals}\n",
    "\n",
    "# store accuracies on clean and adversarial samples for the three cases \n",
    "clean_accuracies = {k:[] for k in additionals}\n",
    "adversarial_accuracies = {k: [] for k in additionals}\n",
    "\n",
    "# define loss function\n",
    "loss = torch.nn.CrossEntropyLoss()\n",
    "\n",
    "# iterate over 10 ephochs \n",
    "for epoch in range(10):\n",
    "  # select the additional data\n",
    "  for additional in additionals:\n",
    "    # perform training loop\n",
    "    training_loop(networks[additional], loss, optimizers[additional], additional)\n",
    "\n",
    "    # perform validation loop\n",
    "    c_acc, a_acc = validation_loop(networks[additional],loss)\n",
    "    clean_accuracies[additional].append(c_acc)\n",
    "    adversarial_accuracies[additional].append(a_acc)\n",
    "\n",
    "    #print current step\n",
    "    print(f\"Epoch: {epoch+1}: {additional} - clean: {clean_accuracies[additional][-1]:1.4f}; adversarial: {adversarial_accuracies[additional][-1]: 1.4f}\\n\")\n",
    "\n"
   ]
  },
  {
   "cell_type": "markdown",
   "metadata": {
    "id": "e6iVt0WQdVAk"
   },
   "source": [
    "## 8: Plotting of Accuracies\n",
    "------------------------------\n",
    "\n",
    "Plot the different clean accuracies and adversarial accuracies over the training epochs."
   ]
  },
  {
   "cell_type": "code",
   "execution_count": null,
   "metadata": {
    "colab": {
     "base_uri": "https://localhost:8080/",
     "height": 405
    },
    "id": "Pay_6JHIdVAk",
    "outputId": "52fab80c-f500-4bf9-914c-fdc65f2ae330"
   },
   "outputs": [
    {
     "data": {
      "text/plain": [
       "Text(0, 0.5, 'Adversarial Accuracy')"
      ]
     },
     "execution_count": 16,
     "metadata": {},
     "output_type": "execute_result"
    },
    {
     "data": {
      "image/png": "[encoded data removed]",
      "text/plain": [
       "<Figure size 432x432 with 2 Axes>"
      ]
     },
     "metadata": {
      "needs_background": "light"
     },
     "output_type": "display_data"
    }
   ],
   "source": [
    "from matplotlib import pyplot\n",
    "import numpy\n",
    "\n",
    "pyplot.figure(figsize=(6, 6))\n",
    "\n",
    "clean_accuracies = numpy.array(clean_accuracies)\n",
    "adversarial_accuracies = numpy.array(adversarial_accuracies)\n",
    "\n",
    "# plot clean accuracies\n",
    "ax = pyplot.subplot(211)\n",
    "ax.plot(clean_accuracies[None], label=\"Default Training\")\n",
    "ax.plot(clean_accuracies[\"noise\"], label=\"Training with Noise\")\n",
    "ax.plot(clean_accuracies[\"FGS\"], label=\"Training with FGS\")\n",
    "ax.set_ylabel(\"Clean Accuracy\")\n",
    "ax.legend()\n",
    "\n",
    "# plot adversarial accuracies\n",
    "ax = pyplot.subplot(212)\n",
    "ax.plot(adversarial_accuracies[None])\n",
    "ax.plot(adversarial_accuracies[\"noise\"])\n",
    "ax.plot(adversarial_accuracies[\"FGS\"])\n",
    "ax.set_xlabel(\"Epoch\")\n",
    "ax.set_ylabel(\"Adversarial Accuracy\")"
   ]
  }
 ],
 "metadata": {
  "accelerator": "GPU",
  "colab": {
   "provenance": []
  },
  "interpreter": {
   "hash": "a29cabff5744fce69e08a959ab87b9e77a9f67b498d08783caa8c3bb16f23a00"
  },
  "kernelspec": {
   "display_name": "Python 3 (ipykernel)",
   "language": "python",
   "name": "python3"
  },
  "language_info": {
   "codemirror_mode": {
    "name": "ipython",
    "version": 3
   },
   "file_extension": ".py",
   "mimetype": "text/x-python",
   "name": "python",
   "nbconvert_exporter": "python",
   "pygments_lexer": "ipython3",
   "version": "3.10.8"
  }
 },
 "nbformat": 4,
 "nbformat_minor": 1
}
