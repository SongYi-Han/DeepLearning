{
  "nbformat": 4,
  "nbformat_minor": 0,
  "metadata": {
    "colab": {
      "name": "CNNvsFCN.ipynb",
      "provenance": []
    },
    "kernelspec": {
      "name": "python3",
      "display_name": "Python 3"
    },
    "language_info": {
      "name": "python"
    },
    "accelerator": "GPU"
  },
  "cells": [
    {
      "cell_type": "markdown",
      "source": [
        "# Categorical classification of handwriting digit (MNIST dataset) with CNN\n",
        "### In this task, we will implement categorical classification with two different network with the same number of learnable layers: one is fully-connected netwrok and the other is convolutional neural network, then we will compare their performance (loss and accuracy)"
      ],
      "metadata": {
        "id": "kaIrKy6AXidk"
      }
    },
    {
      "cell_type": "markdown",
      "source": [
        "Before we start, we should assure that we have activated CUDA -- otherwise training might take very long.\n",
        "In Google Colaboratory:\n",
        "\n",
        "1. Check the options Runtime -> Change Runtime Type on top of the page.\n",
        "2. In the popup window, select hardware accelerator GPU.\n",
        "\n",
        "Afterward, the following command should run successfully:"
      ],
      "metadata": {
        "id": "SwFbURXhZpf2"
      }
    },
    {
      "cell_type": "code",
      "source": [
        "import torch\n",
        "if torch.cuda.is_available():\n",
        "  print(\"Successfully enabled CUDA processing\")\n",
        "else:\n",
        "  print(\"CUDA processing not available. Things will be slow :-(\")"
      ],
      "metadata": {
        "colab": {
          "base_uri": "https://localhost:8080/"
        },
        "id": "QFnOvxJwZtI9",
        "outputId": "947bc39b-e52e-43e4-8b9d-36b711dd252e"
      },
      "execution_count": null,
      "outputs": [
        {
          "output_type": "stream",
          "name": "stdout",
          "text": [
            "Successfully enabled CUDA processing\n"
          ]
        }
      ]
    },
    {
      "cell_type": "markdown",
      "source": [
        "##**Dataset preparation**\n",
        "\n",
        "- **MNIST dataset**: the inputs are X[n]∈ R 28×28 and T [n] ∈ {0, . . . , 9}.\n",
        "Each data in dataset is provided in form of **PIL.Image.Image**,\n",
        "which represents an image class with some more functionality, and pixel values in range [0, 255]. \n",
        "- You can download the dataset directily from **torchvision.datasets** :https://pytorch.org/vision/stable/datasets.html\n",
        "- In PyTorch, a dataset stores a list of input and target tensors (X[n], T[n]).\n",
        "-In order to convert these images into torch.Tensor’s in range [0, 1], we can use the **torchvision.transforms.ToTensor** transform. \n"
      ],
      "metadata": {
        "id": "LN0dE4Z5X_mR"
      }
    },
    {
      "cell_type": "markdown",
      "source": [
        "###**1. Load the dataset with torch Dataloader**\n"
      ],
      "metadata": {
        "id": "MTARscM8daFa"
      }
    },
    {
      "cell_type": "code",
      "source": [
        "import torch\n",
        "import torchvision\n",
        "\n",
        "def datasets(transform):\n",
        "  trainset = torchvision.datasets.MNIST(\n",
        "      root=\"./data\",\n",
        "      train=True,\n",
        "      download=True,\n",
        "      transform=transform\n",
        "  )\n",
        "  testset = torchvision.datasets.MNIST(\n",
        "      root=\"./data\",\n",
        "      train=False,\n",
        "      download=True,\n",
        "      transform=transform\n",
        "  )\n",
        "\n",
        "  return trainset, testset"
      ],
      "metadata": {
        "id": "2BWvs8gSbTgc"
      },
      "execution_count": null,
      "outputs": []
    },
    {
      "cell_type": "code",
      "source": [
        "trainset, testset = datasets(torchvision.transforms.ToTensor())\n",
        "\n",
        "trainloader = torch.utils.data.DataLoader(trainset, batch_size=64, num_workers=2, shuffle=True)\n",
        "testloader = torch.utils.data.DataLoader(testset, batch_size=100, num_workers=2, shuffle=False)"
      ],
      "metadata": {
        "id": "O91IIU0UcZy3"
      },
      "execution_count": null,
      "outputs": []
    },
    {
      "cell_type": "markdown",
      "source": [
        "### **2. Test training set**\n",
        "- Check that all batches of the training set are in the required batch size – except for the\n",
        "last batch. \n",
        "- check that all input and target batches are of type torch.Tensor.\n",
        "- Check that all inputs are\n",
        "in range [0, 1] and that all target values are in {0, . . . , 9}.\n"
      ],
      "metadata": {
        "id": "bLd_N-HCfcN2"
      }
    },
    {
      "cell_type": "code",
      "source": [
        "num_batches = len(trainset) / 64\n",
        "\n",
        "for b, (x,t) in enumerate(trainloader):\n",
        "  # check datatype, size and content of x and t\n",
        "  assert isinstance(x, torch.Tensor)\n",
        "  assert isinstance(t, torch.Tensor)\n",
        "\n",
        "  assert (torch.all(x>=0) and torch.all(x<=1))\n",
        "\n",
        "  assert len(x) == len(t)\n",
        "  if b < num_batches-1 : \n",
        "    assert len(x) == 64"
      ],
      "metadata": {
        "id": "HPVKyrb1fbC7"
      },
      "execution_count": null,
      "outputs": []
    },
    {
      "cell_type": "markdown",
      "source": [
        "## **Design Fully-Connected Network**\n",
        "\n",
        "$D$ : the number of inputs  \n",
        "$K$ : the number of hidden neurons  \n",
        "$O$ : the number of outputs   \n",
        "  \n",
        "Our network architecture is:\n",
        " \n",
        "1. A `torch.nn.Flatten` layer to turn the $28\\times28$ pixel image (2D) into a $28*28$ pixel vector (1D)\n",
        "2. A fully-connected layer with $D$ input neurons and $K$ outputs.\n",
        "3. A $\\tanh$ activation function.\n",
        "4. A fully-connected layer with $K$ input neurons and $K$ outputs.\n",
        "5. A $\\tanh$ activation function.\n",
        "6. A fully-connected layer with $K$ input neurons and $O$ outputs."
      ],
      "metadata": {
        "id": "mosRW9B-gO7K"
      }
    },
    {
      "cell_type": "code",
      "source": [
        "def fully_connected(D, K, O):\n",
        "  \n",
        "  return torch.nn.Sequential(\n",
        "    torch.nn.Flatten(), # image into 1D vector\n",
        "    torch.nn.Linear(D,K,bias=True), \n",
        "    torch.nn.Tanh(),\n",
        "    torch.nn.Linear(K,K,bias=True),\n",
        "    torch.nn.Tanh(),\n",
        "    torch.nn.Linear(K,O,bias=True)\n",
        "  )"
      ],
      "metadata": {
        "id": "1n7Z50Rtg7iQ"
      },
      "execution_count": null,
      "outputs": []
    },
    {
      "cell_type": "markdown",
      "source": [
        "## **Design Convolutional Neural Network**\n",
        "\n",
        "our CNN architecture is:\n",
        "1. 2D convolutional layer with $Q_1$ channels, kernel size $5\\times5$, stride 1 and padding 2. (output dim = 28)\n",
        "2. 2D maximum pooling with pooling size $2\\times2$ and stride 2 (output dim = 28/2)\n",
        "3. $\\tanh$ activation\n",
        "4. 2D convolutional layer with $Q_2$ channels, kernel size $5\\times5$, stride 1 and padding 2.  (output dim = 28/2)\n",
        "5. 2D maximum pooling with pooling size $2\\times2$ and stride 2  (output dim = 28/2/2)\n",
        "6. $\\tanh$ activation\n",
        "7. A flattening layer to turn the 3D image into 1D vector\n",
        "8. A fully-connected layer with the appropriate number of inputs and $O$ outputs."
      ],
      "metadata": {
        "id": "LMlL8FnFiBoY"
      }
    },
    {
      "cell_type": "code",
      "source": [
        "def convolutional(Q1, Q2, O):\n",
        "  return torch.nn.Sequential(\n",
        "    torch.nn.Conv2d(in_channels=1, out_channels=Q1, kernel_size=5, stride=1, padding=2), # output = 28\n",
        "    torch.nn.MaxPool2d(kernel_size=(2,2), stride=2), # output = 28/2\n",
        "    torch.nn.Tanh(),\n",
        "    torch.nn.Conv2d(in_channels=Q1, out_channels=Q2, kernel_size=5, stride=1, padding=2), # output = 28/2\n",
        "    torch.nn.MaxPool2d(kernel_size=(2,2), stride=2), # outpur = 28/2/2\n",
        "    torch.nn.Tanh(),\n",
        "    torch.nn.Flatten(),\n",
        "    torch.nn.Linear(7*7*Q2,O,bias=True) \n",
        "  )"
      ],
      "metadata": {
        "id": "iRlERJi6jAgb"
      },
      "execution_count": null,
      "outputs": []
    },
    {
      "cell_type": "markdown",
      "source": [
        "## **Create Taringing and validation loop**\n",
        "\n",
        "- Implement a function that takes `the network`, `the number of epochs` and `the learning rate`.\n",
        "- Select the correct `loss function` for categorical classification, and `SGD optimizer`.\n",
        "  \n",
        "\n",
        "Iterate the following steps for the given number of epochs:\n",
        "\n",
        "1. **Train** the network with all batches of **the training data**\n",
        "2. Compute the **test set loss** and **test set accuracy**\n",
        "3. Store both in a validation vector\n"
      ],
      "metadata": {
        "id": "KFLabhFNkRSl"
      }
    },
    {
      "cell_type": "code",
      "source": [
        "def train(network, epochs=100, eta=0.01):\n",
        "  # 1. select loss function and optimizer\n",
        "  loss = torch.nn.CrossEntropyLoss()\n",
        "  optimizer = torch.optim.SGD(network.parameters(), lr=eta, momentum=0.9)\n",
        "\n",
        "  # 2. instantiate the correct device\n",
        "  device = torch.device(\"cuda\")\n",
        "  network = network.to(device)\n",
        "\n",
        "  # 3. collect loss values and accuracies over the training epochs\n",
        "  val_loss, val_acc = [], []\n",
        "\n",
        "  for epoch in range(epochs):\n",
        "    # 3-1. train network on training data\n",
        "    for x,t in trainloader:\n",
        "      optimizer.zero_grad()\n",
        "      z = network(x.to(device))\n",
        "      j = loss(z, t.to(device))\n",
        "      j.backward()\n",
        "      optimizer.step()\n",
        "\n",
        "    # 3-2. test network on test data\n",
        "    with torch.no_grad():\n",
        "      cur_loss, cur_acc = 0., 0.\n",
        "      for x,t in testloader:\n",
        "        z = network(x.to(device))\n",
        "        j = loss(z, t.to(device)) # normalized over the number of samples in batch\n",
        "        cur_loss += j.item() * len(t) \n",
        "        cur_acc += torch.sum(torch.argmax(z,dim=1)==t.to(device)).item() \n",
        "        \n",
        "      val_loss.append(cur_loss/len(testset))\n",
        "      val_acc.append(cur_acc/len(testset))\n",
        "\n",
        "  return val_loss, val_acc"
      ],
      "metadata": {
        "id": "uwtfyzBHkVZU"
      },
      "execution_count": null,
      "outputs": []
    },
    {
      "cell_type": "markdown",
      "source": [
        "## **Train FCN and CNN**\n",
        "\n",
        "### 1. Train FCN\n",
        "- Create a fully-connected network with $K=10$ hidden and $O=10$ output neurons.\n",
        "- Train the network for 10 epochs with $\\eta=0.01$ \n",
        "- Save the obtained test losses and accuracies.\n"
      ],
      "metadata": {
        "id": "98bfFinWo4hd"
      }
    },
    {
      "cell_type": "code",
      "source": [
        "fc = fully_connected(28*28, 100,10)\n",
        "fc_loss, fc_acc = train(fc)"
      ],
      "metadata": {
        "id": "ewDNfJiips2F"
      },
      "execution_count": null,
      "outputs": []
    },
    {
      "cell_type": "markdown",
      "source": [
        "### 2. Train CNN\n",
        "- Create a convolutional network with $Q_1=32$ and $Q_2=64$ convolutional channels and $O=10$ output neurons.\n",
        "- Train the network for 10 epochs with $\\eta=0.01$ \n",
        "- Save the obtained test losses and accuracies."
      ],
      "metadata": {
        "id": "3h75hF6ppdtN"
      }
    },
    {
      "cell_type": "code",
      "source": [
        "cv = convolutional(32,64,10)\n",
        "cv_loss, cv_acc = train(cv)"
      ],
      "metadata": {
        "id": "8LCVh4lnpv3-"
      },
      "execution_count": null,
      "outputs": []
    },
    {
      "cell_type": "markdown",
      "source": [
        "## **Visualize the loss and accuracy curve**"
      ],
      "metadata": {
        "id": "yC2vnC_Zp4e_"
      }
    },
    {
      "cell_type": "code",
      "source": [
        "from matplotlib import pyplot\n",
        "pyplot.figure(figsize=(10,3))\n",
        "ax = pyplot.subplot(121)\n",
        "# plot loss values of FC and CV network over epochs\n",
        "ax.plot(fc_loss, \"g-\", label=\"Fully-connecte loss\")\n",
        "ax.plot(cv_loss, \"b-\", label=\"Convolutional loss\")\n",
        "ax.set_xlabel(\"Epoch\")\n",
        "ax.legend()\n",
        "\n",
        "ax = pyplot.subplot(122)\n",
        "# plot accuracy values of FC and CV network over epochs\n",
        "ax.plot(fc_acc, \"g-\", label=\"Fully-connecte accuracy\")\n",
        "ax.plot(cv_acc, \"b-\", label=\"Convolutional accuracy\")\n",
        "ax.set_xlabel(\"Epoch\")\n",
        "ax.legend()"
      ],
      "metadata": {
        "id": "rdi-D5hap0K4"
      },
      "execution_count": null,
      "outputs": []
    },
    {
      "cell_type": "markdown",
      "source": [
        "## **Compute the number of learnable parameters**\n",
        "\n",
        " Analytically Estimate how many learnable parameters the two networks have.\n",
        "\n",
        "\n",
        "Fully-connected Network:\n",
        "- first fully-connected layer: 28 * 28 inputs * 100 hidden neurons + 1 bias\n",
        "- second fully-connected layer: 100 hidden neurons * 100 outpyts + 1 bias\n",
        "- third fully-connected layer: about 89400 + 1 \n",
        "- total: ...\n",
        "\n",
        "Convolutional Network:\n",
        "- first convolutional layer: 32 * 1 * 5 * 5 + 1\n",
        "- second convolutional layer: 64 * 32 * 5 * 5 + 1\n",
        "- fully-connected layer: 64 * 7 * 7 inputs * 10 outputs + 1 \n",
        "- total: 83360"
      ],
      "metadata": {
        "id": "qMjwgb_pqMV3"
      }
    },
    {
      "cell_type": "markdown",
      "source": [
        "Compute the number of parameters in the networks by summing the number of parameters in each layer using pytorch functionality.\n",
        "You can use the `numel()` function from a `torch.Tensor` to provide the number of (learnable) parameters stored in a tensor."
      ],
      "metadata": {
        "id": "sgexnjd8rQcC"
      }
    },
    {
      "cell_type": "code",
      "source": [
        "def parameter_count(network):\n",
        "  return sum(p.numel() for p in network.parameters())\n",
        "\n",
        "print(\"Fully-connected Network:\", parameter_count(fc))\n",
        "print(\"Convolutional Network:\", parameter_count(cv))"
      ],
      "metadata": {
        "id": "iU_xb_gMrTlG"
      },
      "execution_count": null,
      "outputs": []
    },
    {
      "cell_type": "markdown",
      "source": [
        "**Conclusion** : Even though fully-connected network has slightly more parameters, the performance of CNN is much better (one reason : FCN is shift-invariant) "
      ],
      "metadata": {
        "id": "eWQVsOWvrcvR"
      }
    },
    {
      "cell_type": "code",
      "source": [
        ""
      ],
      "metadata": {
        "id": "9E3K1NCtrZ7Q"
      },
      "execution_count": null,
      "outputs": []
    }
  ]
}