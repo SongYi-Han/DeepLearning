{
 "cells": [
  {
   "cell_type": "markdown",
   "metadata": {
    "id": "RJIf6nc6au0u"
   },
   "source": [
    "# Binary and Categorical classification "
   ]
  },
  {
   "cell_type": "markdown",
   "metadata": {
    "id": "g0NpNC3Iar6A"
   },
   "source": [
    "## 1. Dataset Preparation\n",
    "### 1-1. Dataset loading\n",
    "\n",
    "\n",
    "* the spam mail dataset for binary classification : https://archive.ics.uci.edu/ml/datasets/spambase \n",
    "* the wine dataset for categorical classification : https://archive.ics.uci.edu/ml/datasets/wine \n",
    "\n",
    "When running with pytorch, samples should be stored as datatype ``torch.tensor``, and split between input sets $\\mathbf X = [\\vec x^{[1]}, \\ldots, \\vec x^{[N]}]^T \\in \\mathbb R^{N\\times D}$ and targets.\n",
    "*  for binary classifier: $\\mathbf T = [[t^{[1]}, \\ldots, t^{[N]}]] \\in \\mathbb R^{N\\times1} $ and of type ``torch.float`` \n",
    "* for categorical classification : the class indexes $\\vec t = [t^{[1]}, \\ldots, t^{[N]}]$ to be in dimension $\\mathbb N^N$ and of type ``torch.long``.\n"
   ]
  },
  {
   "cell_type": "code",
   "execution_count": 18,
   "metadata": {
    "id": "ddv5qZgvdQFY"
   },
   "outputs": [],
   "source": [
    "import os\n",
    "import csv\n",
    "\n",
    "# download the two dataset files\n",
    "dataset_files = {\n",
    "  \"spambase.data\": \"https://archive.ics.uci.edu/ml/machine-learning-databases/spambase/\",\n",
    "  \"wine.data\": \"https://archive.ics.uci.edu/ml/machine-learning-databases/wine/\"\n",
    "}\n",
    "for name, url in dataset_files.items():\n",
    "  if not os.path.exists(name):\n",
    "    import urllib.request\n",
    "    urllib.request.urlretrieve(url+name, name)\n",
    "    print (\"Downloaded datafile\", name)\n"
   ]
  },
  {
   "cell_type": "code",
   "execution_count": 19,
   "metadata": {
    "id": "Vogwcqe8damB"
   },
   "outputs": [],
   "source": [
    "def dataset(dataset_file=\"wine.data\"):\n",
    "  # read dataset\n",
    "  data = []\n",
    "  with open(dataset_file, 'r') as f:\n",
    "    for row in csv.reader(f):\n",
    "      if row:\n",
    "        data.append([float(x) for x in row])\n",
    "\n",
    "  print (f\"Loaded dataset with {len(data)} samples\")\n",
    "  \n",
    "  # convert to torch.tensor\n",
    "  data = torch.tensor(data)\n",
    "\n",
    "  if dataset_file == \"wine.data\":\n",
    "    # target is in the first column and needs to be converted to long\n",
    "    X = data[:,1:]\n",
    "    T = data[:,0].type(torch.long) - 1 # convert to 0 to O-1 => (0,1,2)\n",
    "  else:\n",
    "    # target is in the last column and needs to be of type float\n",
    "    X = data[:,:-1]\n",
    "    T = data[:,-1:] # slicing tips\n",
    "  return X, T"
   ]
  },
  {
   "cell_type": "markdown",
   "metadata": {
    "id": "RTr1Lx_EfBrt"
   },
   "source": [
    "#### TEST 1\n",
    "1. load wine dataset\n",
    "* check dataset dimention (i.e., $\\mathbf X\\in \\mathbb R^{N\\times D}$ and $\\mathbf T \\in \\mathbb N^N$)\n",
    "* check all targets (class labels) are in the correct range $[0, O-1]$\n",
    "2. load spam dataset  \n",
    "* check dataset dimension\n",
    "* check all targets are in correct range $\\{0, 1\\}$"
   ]
  },
  {
   "cell_type": "code",
   "execution_count": null,
   "metadata": {
    "id": "ht6OuWYSgBGF"
   },
   "outputs": [],
   "source": [
    "# load wine data\n",
    "X, T = dataset(\"wine.data\")\n",
    "# assert that everything is correct with the dataset\n",
    "print(X[0], T[0])\n",
    "assert X.shape[1] == 13\n",
    "assert torch.all(T>=0) and torch.all(T<=2)\n",
    "assert T.dtype == torch.long\n"
   ]
  },
  {
   "cell_type": "code",
   "execution_count": 29,
   "metadata": {
    "colab": {
     "base_uri": "https://localhost:8080/"
    },
    "id": "yLV6Zc6VgILN",
    "outputId": "c6275c94-3450-40a4-aa67-3fa35edd9cf6"
   },
   "outputs": [
    {
     "name": "stdout",
     "output_type": "stream",
     "text": [
      "Loaded dataset with 4601 samples\n"
     ]
    }
   ],
   "source": [
    "# load email data\n",
    "X, T = dataset(\"spambase.data\")\n",
    "# assert that everything is correct with the dataset\n",
    "assert X.shape[1] == 57\n",
    "assert T.shape[1] == 1\n",
    "assert torch.all(T>=0) and torch.all(T<=1)\n",
    "assert T.dtype == torch.float\n"
   ]
  },
  {
   "cell_type": "markdown",
   "metadata": {
    "id": "Pv0JA7SlfBoW"
   },
   "source": [
    "### 1-2. split dataset\n",
    "\n",
    "randomly split 80% of the data for training, and 20% for validation.\n"
   ]
  },
  {
   "cell_type": "code",
   "execution_count": 20,
   "metadata": {
    "id": "-gBxxwGzjRE_"
   },
   "outputs": [],
   "source": [
    "import random \n",
    "\n",
    "def split_data(X,T,ratio=0.8):\n",
    "  # compute num of trainset from given ratio\n",
    "  train_ratio = int(len(X)*ratio)\n",
    "\n",
    "  # create shuffled index\n",
    "  indexes = list(range(len(X)))\n",
    "  random.seed(1979)\n",
    "  random.shuffle(indexes)\n",
    "\n",
    "  # split datasets\n",
    "  X_train = X[indexes[:train_ratio]]\n",
    "  T_train = T[indexes[:train_ratio]]\n",
    "\n",
    "  X_val = X[indexes[train_ratio:]]\n",
    "  T_val = T[indexes[train_ratio:]]\n",
    "\n",
    "  return X_train, T_train, X_val, T_val \n",
    "\n"
   ]
  },
  {
   "cell_type": "markdown",
   "metadata": {
    "id": "NkxQJwMekdiR"
   },
   "source": [
    "### 1-3. Data Normalization \n",
    "Standardizes all input data for both the training and validation set"
   ]
  },
  {
   "cell_type": "code",
   "execution_count": 21,
   "metadata": {
    "id": "f4F2WuGok6zM"
   },
   "outputs": [],
   "source": [
    "def standardize(X_train, X_val):\n",
    "  # compute statistics\n",
    "  mean = torch.mean(X_train, axis=0)\n",
    "  std = torch.mean(X_train, axis=0)\n",
    "\n",
    "  # standardize both X_train and X_val\n",
    "  X_train = (X_train - mean)/std\n",
    "  X_val = (X_val - mean)/std\n",
    "\n",
    "  return X_train, X_val"
   ]
  },
  {
   "cell_type": "markdown",
   "metadata": {
    "id": "aO4aAXWrlC46"
   },
   "source": [
    "## 2. Network (Classifier) implementation\n",
    "\n",
    "implement both classifier with a two-layer fully-connected network in pytorch.  \n",
    " $tanh$ is used for activation function"
   ]
  },
  {
   "cell_type": "code",
   "execution_count": 53,
   "metadata": {
    "id": "3SshUlBDlm9z"
   },
   "outputs": [],
   "source": [
    "import torch\n",
    "\n",
    "def network(D, K, O):\n",
    "  return torch.nn.Sequential(\n",
    "    torch.nn.Linear(D,K),\n",
    "    torch.nn.Tanh(),\n",
    "    torch.nn.Linear(K,O)\n",
    "  )\n"
   ]
  },
  {
   "cell_type": "markdown",
   "metadata": {
    "id": "OvTxdcr4l3yH"
   },
   "source": [
    "## 3. Accuracy function\n",
    "a function that computes the accuracy of the provided network output (the logits) and the given target values. the function works for both binary as well as categorical targets."
   ]
  },
  {
   "cell_type": "code",
   "execution_count": 23,
   "metadata": {
    "id": "cwZKwNQ5mH3T"
   },
   "outputs": [],
   "source": [
    "def accuracy(Z,T):\n",
    "  if Z.shape[1] == 1:\n",
    "    # if binary target:\n",
    "    return torch.mean(((Z>0)==T).type(torch.float))\n",
    "  else:\n",
    "    # if categorical target:\n",
    "    return torch.mean((torch.argmax(Z,dim=1)==T).type(torch.float))"
   ]
  },
  {
   "cell_type": "code",
   "execution_count": 24,
   "metadata": {
    "id": "wihGT8Ta1UWC"
   },
   "outputs": [],
   "source": [
    "# test binary classification\n",
    "\n",
    "ZZ = torch.ones((20,1))*-5 # T = 0\n",
    "ZZ[15:20] = 5 # T = 1 \n",
    "\n",
    "assert(abs(accuracy(ZZ,torch.zeros((20,1)))-0.75) < 1e-8)\n",
    "assert(abs(accuracy(ZZ,torch.ones((20,1)))-0.25) < 1e-8)"
   ]
  },
  {
   "cell_type": "code",
   "execution_count": 25,
   "metadata": {
    "id": "LDCUJUAD2glO"
   },
   "outputs": [],
   "source": [
    "# test categorical classification \n",
    "\n",
    "# one-hot encoding\n",
    "ZZ = torch.ones((20,4))*-5\n",
    "ZZ[0:1,0] = 5\n",
    "ZZ[1:4,1] = 5\n",
    "ZZ[4:10,2] = 5\n",
    "ZZ[10:20,3] = 5\n",
    "\n",
    "assert(abs(accuracy(ZZ,torch.tensor((0,1,1,1,2,2,2,2,2,2,3,3,3,3,3,3,3,3,3,3)))-1) < 1e-8)"
   ]
  },
  {
   "cell_type": "markdown",
   "metadata": {
    "id": "wqdM3Spy7Pys"
   },
   "source": [
    "## 4. Compute loss and accuracy\n",
    "\n",
    "* training with batch gradient descent for whole dataset `torch.optim.SGD`\n",
    "* For each epoch, store accuracy and loss of train and validation set "
   ]
  },
  {
   "cell_type": "code",
   "execution_count": 35,
   "metadata": {
    "id": "aJw9uvyD70ns"
   },
   "outputs": [],
   "source": [
    "def compute_loss_acc(X_train,T_train,X_val,T_val,loss,epochs=10000,eta=0.1):\n",
    "\n",
    "  optimizer = torch.optim.SGD(params=network.parameters(),lr=eta)\n",
    "  train_loss, train_acc, val_loss, val_acc = [], [], [], []\n",
    "\n",
    "  for epoch in range(epochs):\n",
    "\n",
    "    # train on training set\n",
    "    # 1. initialize optimizer\n",
    "    optimizer.zero_grad()\n",
    "    # 2. compute network output on training data\n",
    "    Z = network(X_train)\n",
    "    # 3. compute loss from network output and target data\n",
    "    J = loss(Z, T_train)\n",
    "    J.backward()\n",
    "    # 4. perform parameter update\n",
    "    optimizer.step()\n",
    "    # 5. store loss and accuracy\n",
    "    train_loss.append(J.item())\n",
    "    train_acc.append(accuracy(Z, T_train))\n",
    "\n",
    "    # test on validation data\n",
    "    with torch.no_grad():\n",
    "      # 1. compute network output on validation data\n",
    "      Z = network(X_val)\n",
    "      # 2. compute loss from network output and target data\n",
    "      J = loss(Z, T_val)\n",
    "      # 3. store loss and accuracy\n",
    "      val_loss.append(J.item())\n",
    "      val_acc.append(accuracy(Z, T_val))\n",
    "\n",
    "  return train_loss, train_acc, val_loss, val_acc"
   ]
  },
  {
   "cell_type": "markdown",
   "metadata": {
    "id": "PUsSRXGc_qFW"
   },
   "source": [
    "## 5. plot function"
   ]
  },
  {
   "cell_type": "code",
   "execution_count": 36,
   "metadata": {
    "id": "d6ey0x1-_pXz"
   },
   "outputs": [],
   "source": [
    "from matplotlib import pyplot\n",
    "\n",
    "def plot(train_loss, train_acc, val_loss, val_acc):\n",
    "  pyplot.figure(figsize=(10,3))\n",
    "  ax = pyplot.subplot(121)\n",
    "  ax.plot(train_loss, \"g-\", label=\"Training set loss\")\n",
    "  ax.plot(val_loss, \"b-\", label=\"Validation set loss\")\n",
    "  ax.set_xlabel(\"Epoch\")\n",
    "  ax.legend()\n",
    "\n",
    "  ax = pyplot.subplot(122)\n",
    "  ax.plot(train_acc, \"g-\", label=\"Training set accuracy\")\n",
    "  ax.plot(val_acc, \"b-\", label=\"Validation set accuracy\")\n",
    "  ax.set_xlabel(\"Epoch\")\n",
    "  ax.legend()"
   ]
  },
  {
   "cell_type": "markdown",
   "metadata": {
    "id": "jVPECigw-5Bx"
   },
   "source": [
    "## 5. Run Binary classification\n",
    "1. Load the data for binary classification, using the ``\"spambase.data\"`` file.\n",
    "2. Split the data into training and validation sets.\n",
    "Standardize both training and validation input data.\n",
    "3. Instantiate a network with the correct number of input neurons $D$, a given number of $K$ hidden neurons and one output neuron $O$.\n",
    "4. Instantiate the binary cross entropy loss function: `torch.nn.BCEWithLogitsLoss()`\n",
    "5. Train the network with data for 10'000 epochs \n",
    "6. plot the training and validation accuracies and losses."
   ]
  },
  {
   "cell_type": "code",
   "execution_count": 46,
   "metadata": {
    "colab": {
     "base_uri": "https://localhost:8080/",
     "height": 260
    },
    "id": "6rPGPtN3-4lZ",
    "outputId": "7525df29-5916-44bd-e933-6068a71076ed"
   },
   "outputs": [
    {
     "name": "stdout",
     "output_type": "stream",
     "text": [
      "Loaded dataset with 4601 samples\n",
      "57 50 1\n"
     ]
    },
    {
     "data": {
      "image/png": "[encoded data removed]",
      "text/plain": [
       "<Figure size 720x216 with 2 Axes>"
      ]
     },
     "metadata": {
      "needs_background": "light"
     },
     "output_type": "display_data"
    }
   ],
   "source": [
    "# 1. load dataset\n",
    "X, T = dataset(\"spambase.data\")\n",
    "\n",
    "# 2. split dataset\n",
    "X_train, T_train, X_val, T_val = split_data(X,T,0.8)\n",
    "\n",
    "# 3. standardize input data\n",
    "X_train, X_val = standardize(X_train, X_val)\n",
    "\n",
    "# 4. define loss function for binary classification\n",
    "loss = torch.nn.BCEWithLogitsLoss()\n",
    "\n",
    "# 5. instantiate network\n",
    "D,K,O=X_train.shape[1],50,1\n",
    "network = network(D,K,O)\n",
    "\n",
    "# train network on our data\n",
    "results = compute_loss_acc(X_train,T_train,X_val, T_val,loss)\n",
    "\n",
    "# plot the results\n",
    "plot(*results)"
   ]
  },
  {
   "cell_type": "markdown",
   "metadata": {
    "id": "KBy9zivYCHNr"
   },
   "source": [
    "## 6. Run Categorical classification\n",
    "1. Load the data for categorical classification, using the \"wine.data\" file.\n",
    "2. Split the data into training and validation sets. \n",
    "3. Standardize both training and validation input data.\n",
    "4. Instantiate a network with the correct number of input neurons  𝐷 , a given number of  𝐾  hidden neurons and one output neuron  𝑂 .\n",
    "5. Instantiate the categotical cross entropy loss function.\n",
    "6. Train the network with data for 10'000 epochs\n",
    "7. plot the training and validation accuracies and losses."
   ]
  },
  {
   "cell_type": "code",
   "execution_count": 54,
   "metadata": {
    "colab": {
     "base_uri": "https://localhost:8080/",
     "height": 242
    },
    "id": "lZ9IDkIICpmu",
    "outputId": "6674ef09-cda8-472d-99b7-81d9bb27dee4"
   },
   "outputs": [
    {
     "name": "stdout",
     "output_type": "stream",
     "text": [
      "Loaded dataset with 178 samples\n"
     ]
    },
    {
     "data": {
      "image/png": "[encoded data removed]",
      "text/plain": [
       "<Figure size 720x216 with 2 Axes>"
      ]
     },
     "metadata": {
      "needs_background": "light"
     },
     "output_type": "display_data"
    }
   ],
   "source": [
    "# 1. load dataset\n",
    "X, T = dataset(\"wine.data\")\n",
    "\n",
    "# 2. split dataset\n",
    "X_train, T_train, X_val, T_val = split_data(X,T,0.8)\n",
    "\n",
    "# 3. standardize input data\n",
    "X_train, X_val = standardize(X_train, X_val)\n",
    "\n",
    "# 4. define loss function for binary classification\n",
    "loss = torch.nn.CrossEntropyLoss()\n",
    "\n",
    "# 5. instantiate network\n",
    "D,K,O=X_train.shape[1],2,3\n",
    "network = network(13,2,3)\n",
    "\n",
    "# train network on our data\n",
    "results = compute_loss_acc(X_train,T_train,X_val, T_val,loss)\n",
    "\n",
    "# plot the results\n",
    "plot(*results)"
   ]
  }
 ],
 "metadata": {
  "colab": {
   "name": "classifier.ipynb",
   "provenance": []
  },
  "kernelspec": {
   "display_name": "Python 3 (ipykernel)",
   "language": "python",
   "name": "python3"
  },
  "language_info": {
   "codemirror_mode": {
    "name": "ipython",
    "version": 3
   },
   "file_extension": ".py",
   "mimetype": "text/x-python",
   "name": "python",
   "nbconvert_exporter": "python",
   "pygments_lexer": "ipython3",
   "version": "3.10.8"
  }
 },
 "nbformat": 4,
 "nbformat_minor": 1
}
