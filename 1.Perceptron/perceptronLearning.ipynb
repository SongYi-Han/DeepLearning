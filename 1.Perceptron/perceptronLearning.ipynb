{
  "nbformat": 4,
  "nbformat_minor": 0,
  "metadata": {
    "colab": {
      "name": "perceptronLearning.ipynb",
      "provenance": []
    },
    "kernelspec": {
      "name": "python3",
      "display_name": "Python 3"
    },
    "language_info": {
      "name": "python"
    }
  },
  "cells": [
    {
      "cell_type": "markdown",
      "source": [
        "# Perceptron Learning \n",
        "Apply the perceptron learning to binary classification for randomly generated continuous 2d dataset. Note that perceptron learning algorithm converges when input dataset is linearly separable.\n",
        "\n"
      ],
      "metadata": {
        "id": "GNpFIT9AMb1F"
      }
    },
    {
      "cell_type": "markdown",
      "source": [
        "## 0. Dataset preparation"
      ],
      "metadata": {
        "id": "HJlNFO2-ZW5S"
      }
    },
    {
      "cell_type": "markdown",
      "source": [
        "### i) Data generation \n",
        "\n",
        "Generate separable random data $X$ = {$\\vec{x}^{[1]}$,$\\vec{x}^{[2]}$, ...,$\\vec{x}^{[n]}$} with each $\\vec{x}^{[n]}$ = ($x_1,x_2)^T$. Each $\\vec{x}^{[n]}$ is assigned to target $\\vec{t}^{[n]}$ $\\in$ {1,2}.\n",
        "\n",
        "Half of dataset wich follows $\\vec{x}^{[n]} \\sim \\mathcal{N}(\\mu_+,\\,\\sigma_+)$ need to be assigned  to target $\\vec{t}^{[n]}$ = 1, and  $\\vec{x}^{[n]} \\sim \\mathcal{N}(\\mu_-,\\,\\sigma_-)$ is $\\vec{t}^{[n]}$ = -1.\n",
        "\n",
        "Select means (~µ+, ~µ−) and (σ+, σ−) wisely to create separable data"
      ],
      "metadata": {
        "id": "6WXni9_HM1dP"
      }
    },
    {
      "cell_type": "code",
      "source": [
        "import numpy as np"
      ],
      "metadata": {
        "id": "bMpxIxKtYLCZ"
      },
      "execution_count": null,
      "outputs": []
    },
    {
      "cell_type": "code",
      "source": [
        "def dataset(n_samples, mu_p, sigma_p, mu_n, sigma_n):\n",
        "    # create input dataset\n",
        "    p_data = np.random.normal(mu_p, sigma_p, size=(n_samples//2, 2))\n",
        "    n_data = np.random.normal(mu_n, sigma_n, size=(n_samples//2, 2))\n",
        "\n",
        "    # create positive and negative labels\n",
        "    p_label = np.full(n_samples//2, 1, int)\n",
        "    n_label = np.full(n_samples//2, -1, int)\n",
        "\n",
        "    # concatenate positive and negative data\n",
        "    X = np.concatenate((p_data, n_data), axis=0) \n",
        "    T = np.concatenate((p_label, n_label))\n",
        "\n",
        "    return X, T"
      ],
      "metadata": {
        "id": "Weu6AhvmQGT4"
      },
      "execution_count": null,
      "outputs": []
    },
    {
      "cell_type": "code",
      "execution_count": null,
      "metadata": {
        "id": "Y2RnmdNIL45U"
      },
      "outputs": [],
      "source": [
        "number_of_samples=100\n",
        "mu_pos=np.array([1,7])\n",
        "sigma_pos=np.array([1,1])\n",
        "mu_neg=np.array([5,2])\n",
        "sigma_neg=np.array([1,1])\n",
        "\n",
        "X, T = dataset(number_of_samples, mu_pos,sigma_pos,mu_neg,sigma_neg)"
      ]
    },
    {
      "cell_type": "markdown",
      "source": [
        "### ii) Linear separability Test \n",
        "\n",
        "A decision boundry $a = f_{\\vec w}(\\vec x) = w_0 + w_1 x_1 + w_2 x_2$ linearly separates the data $(X,T)$ if $\\forall n: a^{[n]} t^{[n]} > 0$ for $a^{[n]} = f_{\\vec w}(\\vec x^{[n]})$.  \n",
        "\n",
        "However, our data samples are not always separable since they are generated randomly. To check if our dataset is separable, we will manually calculate the separaing line $a$ and then check if all dataset safisfies above condition. \n",
        "\n",
        "Note that the separating line is orthogonal to the vector $\\overrightarrow{\\vec\\mu_- \\vec\\mu_+}$, that the normal of the line $(w_1, w_2)^T$ is orthogonal to the line, and that $w_0$ should be selected such that the line $\\vec w$ is in the middle of $\\vec\\mu_+$ and $\\vec\\mu_-$."
      ],
      "metadata": {
        "id": "3qjw91-bTaKm"
      }
    },
    {
      "cell_type": "code",
      "source": [
        "def separability_test(X, T, w):\n",
        "    a = np.dot(X,w[1:]) + w[0]\n",
        "    res = np.multiply(a,T)\n",
        "\n",
        "    return all(i > 0 for i in res)"
      ],
      "metadata": {
        "id": "nFCxQaAPUftX"
      },
      "execution_count": null,
      "outputs": []
    },
    {
      "cell_type": "code",
      "source": [
        "diff = mu_pos - mu_neg \n",
        "mean = (mu_pos + mu_neg)/2 \n",
        "\n",
        "w_manual = np.array([-np.dot(mean,diff), diff[0], diff[1]]) # [w0,w1,w2]\n",
        "print(w_manual)"
      ],
      "metadata": {
        "colab": {
          "base_uri": "https://localhost:8080/"
        },
        "id": "n5YdDlZJUsrn",
        "outputId": "42e6613b-5614-4005-e021-7cfbcb28c25d"
      },
      "execution_count": null,
      "outputs": [
        {
          "output_type": "stream",
          "name": "stdout",
          "text": [
            "[-10.5  -4.    5. ]\n"
          ]
        }
      ]
    },
    {
      "cell_type": "code",
      "source": [
        "# w_manual = np.array([-np.sum(((mu_pos+mu_neg)/2)*(mu_pos-mu_neg))]+list(mu_pos-mu_neg))"
      ],
      "metadata": {
        "id": "vgKcZ_9QYGje"
      },
      "execution_count": null,
      "outputs": []
    },
    {
      "cell_type": "code",
      "source": [
        "if separability_test(X, T, w_manual):\n",
        "  print(\"The data is separated by the manually selected line\")\n",
        "else:\n",
        "  print(\"The anually selected line does not separate the data\")"
      ],
      "metadata": {
        "colab": {
          "base_uri": "https://localhost:8080/"
        },
        "id": "Vbq8PKFvY0qh",
        "outputId": "d4f5b457-1c42-4478-a6a5-dd1183e1160d"
      },
      "execution_count": null,
      "outputs": [
        {
          "output_type": "stream",
          "name": "stdout",
          "text": [
            "The data is separated by the manually selected line\n"
          ]
        }
      ]
    },
    {
      "cell_type": "markdown",
      "source": [
        "## 1. implement Perceptron model\n",
        "\n",
        "The perceptron is defined as the line $a = f_{\\vec w}(\\vec x)$ that is thresholded using the sign function $\\mathrm{sign}(a) = \\begin{cases} +1 &\\text{if } a \\geq 0\\\\ -1 & \\text{otherwise.}\\end{cases}$\n",
        "Implement a function that computes and returns the perceptron for a given data point $\\vec x$ and line parameters $\\vec w$."
      ],
      "metadata": {
        "id": "bfl6IBmNZkW_"
      }
    },
    {
      "cell_type": "code",
      "source": [
        "def perceptron(x, w):\n",
        "    return np.sign(np.dot(x, w[1:]) + w[0])"
      ],
      "metadata": {
        "id": "WKjIkw8lZunW"
      },
      "execution_count": null,
      "outputs": []
    },
    {
      "cell_type": "markdown",
      "source": [
        "## 2. Update W with Percentron Learning Algorithm\n",
        "\n",
        "The perceptron learning rule is defined as follows:  \n",
        "\n",
        "* First, the weights $\\vec w = (w_0, w_1, w_2)^T$ is initialized randomly.\n",
        "* Then, for each sample $(x,t)$ of the dataset we check if the sample is correcly classified as $H(f_{\\vec w}(\\vec x)) t > 0$.\n",
        "* If the sample is classified incorrectly, the weights are adapted: $w_0 = w_0 + t$, $w_1 = w_1 + tx_1$, $w_2 = w_2 + tx_2$.\n",
        "* This step is repeated until all samples are classified correcly."
      ],
      "metadata": {
        "id": "AutH_dQtZ1x4"
      }
    },
    {
      "cell_type": "code",
      "source": [
        "def perceptron_learning(X, T, w):\n",
        "    \n",
        "    w_star = w.copy()\n",
        "\n",
        "    while separability_test(X, T, w_star) == False:\n",
        "      for x, t in zip(X, T):\n",
        "        if perceptron(x,w_star)*t < 0:\n",
        "          w_star += t * np.array([1, x[0], x[1]])\n",
        "\n",
        "    return w_star"
      ],
      "metadata": {
        "id": "8jU9NGsbbi97"
      },
      "execution_count": null,
      "outputs": []
    },
    {
      "cell_type": "markdown",
      "source": [
        "## 3. Dataset and Decision boundary Visualization\n",
        "\n",
        "Plot the data points such that positive data with green dots, and negative data with red dots.\n",
        "\n",
        "Then, we need to compute the decision boundary parameters. For this purpose, we define the separating line in cartesian coordinates $f_{\\vec w}(\\vec x) = 0$ and solve it to the paramteric form $x_2 = \\beta x_1 + \\gamma$."
      ],
      "metadata": {
        "id": "E9Qz294edaX7"
      }
    },
    {
      "cell_type": "code",
      "source": [
        "from matplotlib import pyplot"
      ],
      "metadata": {
        "id": "EyqOlsHKfRZQ"
      },
      "execution_count": null,
      "outputs": []
    },
    {
      "cell_type": "code",
      "source": [
        "# 1. initialize ramdom w0 between -1 to 1 \n",
        "w_initial = np.random.uniform(-1,1,size=(3,))\n",
        "\n",
        "# 2. learn oprimized W with perceptron learning \n",
        "w_star = perceptron_learning(X, T, w_initial)\n",
        "\n",
        "# 3. calculate line parameters\n",
        "def line_parameters(w):\n",
        "  beta = - w[1] / w[2]\n",
        "  gamma = - w[0] / w[2]\n",
        "  return beta, gamma\n"
      ],
      "metadata": {
        "id": "2zbfEgaldZ9M"
      },
      "execution_count": null,
      "outputs": []
    },
    {
      "cell_type": "code",
      "source": [
        "pyplot.figure(figsize=(8,8))\n",
        "\n",
        "# plot the positive data points\n",
        "pyplot.plot(X[T==1, 0], X[T==1, 1], \"g.\", label=\"positive data\")\n",
        "\n",
        "# plot the negative data points\n",
        "pyplot.plot(X[T==-1, 0], X[T==-1, 1], \"r.\", label=\"negative data\")\n",
        "\n",
        "# create datapoints for manual line  \n",
        "beta_m, gamma_m = line_parameters(w_manual)\n",
        "x1 = np.array([-3, 9])\n",
        "x2_m = beta_m * x1 + gamma_m\n",
        "\n",
        "# compute line parameters for optimized line\n",
        "beta_o, gamma_o = line_parameters(w_star)\n",
        "x2_o = beta_o * x1 + gamma_o\n",
        "\n",
        "# plot lines (might need to call this function twice for the two lines)\n",
        "pyplot.plot(x1, x2_m, \"m-\", label=\"manual line\")\n",
        "pyplot.plot(x1, x2_o, \"b-\", label=\"optimized line\")\n",
        "\n",
        "# make the plot more beautiful\n",
        "pyplot.legend()"
      ],
      "metadata": {
        "colab": {
          "base_uri": "https://localhost:8080/",
          "height": 500
        },
        "id": "qSfWrut3faHP",
        "outputId": "e71777b1-eaff-4816-e9cd-25bcdc52aca9"
      },
      "execution_count": null,
      "outputs": [
        {
          "output_type": "execute_result",
          "data": {
            "text/plain": [
              "<matplotlib.legend.Legend at 0x7fdc8c1a8a90>"
            ]
          },
          "metadata": {},
          "execution_count": 20
        },
        {
          "output_type": "display_data",
          "data": {
            "text/plain": [
              "<Figure size 576x576 with 1 Axes>"
            ],
            "image/png": "[encoded data removed]"
          },
          "metadata": {
            "needs_background": "light"
          }
        }
      ]
    }
  ]
}