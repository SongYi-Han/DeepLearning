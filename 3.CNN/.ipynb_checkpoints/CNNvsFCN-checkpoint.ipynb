{
 "cells": [
  {
   "cell_type": "markdown",
   "metadata": {
    "id": "kaIrKy6AXidk"
   },
   "source": [
    "# Categorical classification with CNN\n",
    "**Objective**\n",
    "- implement categorical classification with two different network with the same number of learnable layers: one is fully-connected netwrok and the other is convolutional neural network, then compare their performance (loss and accuracy)\n",
    "- dataset : handwriting digit (MNIST dataset) "
   ]
  },
  {
   "cell_type": "code",
   "execution_count": null,
   "metadata": {
    "colab": {
     "base_uri": "https://localhost:8080/"
    },
    "id": "QFnOvxJwZtI9",
    "outputId": "947bc39b-e52e-43e4-8b9d-36b711dd252e"
   },
   "outputs": [
    {
     "name": "stdout",
     "output_type": "stream",
     "text": [
      "Successfully enabled CUDA processing\n"
     ]
    }
   ],
   "source": [
    "import torch\n",
    "if torch.cuda.is_available():\n",
    "  print(\"Successfully enabled CUDA processing\")\n",
    "else:\n",
    "  print(\"CUDA processing not available. Things will be slow :-(\")"
   ]
  },
  {
   "cell_type": "markdown",
   "metadata": {
    "id": "LN0dE4Z5X_mR"
   },
   "source": [
    "## 0. Dataset preparation\n",
    "\n",
    "- **MNIST dataset**: the inputs are X[n]∈ R 28×28 and T [n] ∈ {0, . . . , 9}.\n",
    "Each data in dataset is provided in form of **PIL.Image.Image**,\n",
    "which represents an image class with some more functionality, and pixel values in range [0, 255]. \n",
    "- Download the dataset directily from **torchvision.datasets** :https://pytorch.org/vision/stable/datasets.html\n",
    "- In PyTorch, a dataset stores a list of input and target tensors (X[n], T[n]).\n",
    "-In order to convert these images into torch.Tensor’s in range [0, 1], use the **torchvision.transforms.ToTensor** transform. \n"
   ]
  },
  {
   "cell_type": "markdown",
   "metadata": {
    "id": "MTARscM8daFa"
   },
   "source": [
    "## 1. Load and Split the dataset with torch Dataloader\n"
   ]
  },
  {
   "cell_type": "code",
   "execution_count": null,
   "metadata": {
    "id": "2BWvs8gSbTgc"
   },
   "outputs": [],
   "source": [
    "import torch\n",
    "import torchvision\n",
    "\n",
    "def datasets(transform):\n",
    "  trainset = torchvision.datasets.MNIST(\n",
    "      root=\"./data\",\n",
    "      train=True,\n",
    "      download=True,\n",
    "      transform=transform\n",
    "  )\n",
    "  testset = torchvision.datasets.MNIST(\n",
    "      root=\"./data\",\n",
    "      train=False,\n",
    "      download=True,\n",
    "      transform=transform\n",
    "  )\n",
    "\n",
    "  return trainset, testset"
   ]
  },
  {
   "cell_type": "code",
   "execution_count": null,
   "metadata": {
    "id": "O91IIU0UcZy3"
   },
   "outputs": [],
   "source": [
    "trainset, testset = datasets(torchvision.transforms.ToTensor())\n",
    "\n",
    "trainloader = torch.utils.data.DataLoader(trainset, batch_size=64, num_workers=2, shuffle=True)\n",
    "testloader = torch.utils.data.DataLoader(testset, batch_size=100, num_workers=2, shuffle=False)"
   ]
  },
  {
   "cell_type": "markdown",
   "metadata": {
    "id": "bLd_N-HCfcN2"
   },
   "source": [
    "### Test training set\n",
    "- Check that all batches of the training set are in the required batch size – except for the\n",
    "last batch. \n",
    "- Check that all input and target batches are of type torch.Tensor.\n",
    "- Check that all inputs are\n",
    "in range [0, 1] and that all target values are in {0, . . . , 9}.\n"
   ]
  },
  {
   "cell_type": "code",
   "execution_count": null,
   "metadata": {
    "id": "HPVKyrb1fbC7"
   },
   "outputs": [],
   "source": [
    "num_batches = len(trainset) / 64\n",
    "\n",
    "for b, (x,t) in enumerate(trainloader):\n",
    "  # check datatype, size and content of x and t\n",
    "  assert isinstance(x, torch.Tensor)\n",
    "  assert isinstance(t, torch.Tensor)\n",
    "\n",
    "  assert (torch.all(x>=0) and torch.all(x<=1))\n",
    "\n",
    "  assert len(x) == len(t)\n",
    "  if b < num_batches-1 : \n",
    "    assert len(x) == 64"
   ]
  },
  {
   "cell_type": "markdown",
   "metadata": {
    "id": "mosRW9B-gO7K"
   },
   "source": [
    "## 2. Define Fully-Connected Network\n",
    "\n",
    "$D$ : the number of inputs  \n",
    "$K$ : the number of hidden neurons  \n",
    "$O$ : the number of outputs   \n",
    "  \n",
    " \n",
    "1. A `torch.nn.Flatten` layer to turn the $28\\times28$ pixel image (2D) into a $28*28$ pixel vector (1D)\n",
    "2. A fully-connected layer with $D$ input neurons and $K$ outputs.\n",
    "3. A $\\tanh$ activation function.\n",
    "4. A fully-connected layer with $K$ input neurons and $K$ outputs.\n",
    "5. A $\\tanh$ activation function.\n",
    "6. A fully-connected layer with $K$ input neurons and $O$ outputs."
   ]
  },
  {
   "cell_type": "code",
   "execution_count": null,
   "metadata": {
    "id": "1n7Z50Rtg7iQ"
   },
   "outputs": [],
   "source": [
    "def fully_connected(D, K, O):\n",
    "  \n",
    "  return torch.nn.Sequential(\n",
    "    torch.nn.Flatten(), # image into 1D vector\n",
    "    torch.nn.Linear(D,K,bias=True), \n",
    "    torch.nn.Tanh(),\n",
    "    torch.nn.Linear(K,K,bias=True),\n",
    "    torch.nn.Tanh(),\n",
    "    torch.nn.Linear(K,O,bias=True)\n",
    "  )"
   ]
  },
  {
   "cell_type": "markdown",
   "metadata": {
    "id": "LMlL8FnFiBoY"
   },
   "source": [
    "## 3. Define Convolutional Neural Network\n",
    "\n",
    "1. 2D convolutional layer with $Q_1$ channels, kernel size $5\\times5$, stride 1 and padding 2. (output dim = 28)\n",
    "2. 2D maximum pooling with pooling size $2\\times2$ and stride 2 (output dim = 28/2)\n",
    "3. $\\tanh$ activation\n",
    "4. 2D convolutional layer with $Q_2$ channels, kernel size $5\\times5$, stride 1 and padding 2.  (output dim = 28/2)\n",
    "5. 2D maximum pooling with pooling size $2\\times2$ and stride 2  (output dim = 28/2/2)\n",
    "6. $\\tanh$ activation\n",
    "7. A flattening layer to turn the 3D image into 1D vector\n",
    "8. A fully-connected layer with the appropriate number of inputs and $O$ outputs."
   ]
  },
  {
   "cell_type": "code",
   "execution_count": null,
   "metadata": {
    "id": "iRlERJi6jAgb"
   },
   "outputs": [],
   "source": [
    "def convolutional(Q1, Q2, O):\n",
    "  return torch.nn.Sequential(\n",
    "    torch.nn.Conv2d(in_channels=1, out_channels=Q1, kernel_size=5, stride=1, padding=2), # output = 28\n",
    "    torch.nn.MaxPool2d(kernel_size=(2,2), stride=2), # output = 28/2\n",
    "    torch.nn.Tanh(),\n",
    "    torch.nn.Conv2d(in_channels=Q1, out_channels=Q2, kernel_size=5, stride=1, padding=2), # output = 28/2\n",
    "    torch.nn.MaxPool2d(kernel_size=(2,2), stride=2), # outpur = 28/2/2\n",
    "    torch.nn.Tanh(),\n",
    "    torch.nn.Flatten(),\n",
    "    torch.nn.Linear(7*7*Q2,O,bias=True) \n",
    "  )"
   ]
  },
  {
   "cell_type": "markdown",
   "metadata": {
    "id": "KFLabhFNkRSl"
   },
   "source": [
    "## 4. Create Taringing and validation loop\n",
    "\n",
    "- Implement a function that takes `the network`, `the number of epochs` and `the learning rate`.\n",
    "- Select the correct `loss function` for categorical classification, and `SGD optimizer`.\n",
    "  \n",
    "\n",
    "Iterate the following steps for the given number of epochs:\n",
    "\n",
    "1. **Train** the network with all batches of **the training data**\n",
    "2. Compute the **test set loss** and **test set accuracy**\n",
    "3. Store both in a validation vector\n"
   ]
  },
  {
   "cell_type": "code",
   "execution_count": null,
   "metadata": {
    "id": "uwtfyzBHkVZU"
   },
   "outputs": [],
   "source": [
    "def train(network, epochs=100, eta=0.01):\n",
    "  # 1. select loss function and optimizer\n",
    "  loss = torch.nn.CrossEntropyLoss()\n",
    "  optimizer = torch.optim.SGD(network.parameters(), lr=eta, momentum=0.9)\n",
    "\n",
    "  # 2. instantiate the correct device\n",
    "  device = torch.device(\"cuda\")\n",
    "  network = network.to(device)\n",
    "\n",
    "  # 3. collect loss values and accuracies over the training epochs\n",
    "  val_loss, val_acc = [], []\n",
    "\n",
    "  for epoch in range(epochs):\n",
    "    # 3-1. train network on training data\n",
    "    for x,t in trainloader:\n",
    "      optimizer.zero_grad()\n",
    "      z = network(x.to(device))\n",
    "      j = loss(z, t.to(device))\n",
    "      j.backward()\n",
    "      optimizer.step()\n",
    "\n",
    "    # 3-2. test network on test data\n",
    "    with torch.no_grad():\n",
    "      cur_loss, cur_acc = 0., 0.\n",
    "      for x,t in testloader:\n",
    "        z = network(x.to(device))\n",
    "        j = loss(z, t.to(device)) # normalized over the number of samples in batch\n",
    "        cur_loss += j.item() * len(t) \n",
    "        cur_acc += torch.sum(torch.argmax(z,dim=1)==t.to(device)).item() \n",
    "        \n",
    "      val_loss.append(cur_loss/len(testset))\n",
    "      val_acc.append(cur_acc/len(testset))\n",
    "\n",
    "  return val_loss, val_acc"
   ]
  },
  {
   "cell_type": "markdown",
   "metadata": {
    "id": "98bfFinWo4hd"
   },
   "source": [
    "## 5. Train FCN and CNN\n",
    "\n",
    "### 5-1. Train FCN\n",
    "- Create a fully-connected network with $K=10$ hidden and $O=10$ output neurons.\n",
    "- Train the network for 10 epochs with $\\eta=0.01$ \n",
    "- Save the obtained test losses and accuracies.\n"
   ]
  },
  {
   "cell_type": "code",
   "execution_count": null,
   "metadata": {
    "id": "ewDNfJiips2F"
   },
   "outputs": [],
   "source": [
    "fc = fully_connected(28*28, 100,10)\n",
    "fc_loss, fc_acc = train(fc)"
   ]
  },
  {
   "cell_type": "markdown",
   "metadata": {
    "id": "3h75hF6ppdtN"
   },
   "source": [
    "### 5-2. Train CNN\n",
    "- Create a convolutional network with $Q_1=32$ and $Q_2=64$ convolutional channels and $O=10$ output neurons.\n",
    "- Train the network for 10 epochs with $\\eta=0.01$ \n",
    "- Save the obtained test losses and accuracies."
   ]
  },
  {
   "cell_type": "code",
   "execution_count": null,
   "metadata": {
    "id": "8LCVh4lnpv3-"
   },
   "outputs": [],
   "source": [
    "cv = convolutional(32,64,10)\n",
    "cv_loss, cv_acc = train(cv)"
   ]
  },
  {
   "cell_type": "markdown",
   "metadata": {
    "id": "yC2vnC_Zp4e_"
   },
   "source": [
    "## 6. Visualize the loss and accuracy curve"
   ]
  },
  {
   "cell_type": "code",
   "execution_count": null,
   "metadata": {
    "id": "rdi-D5hap0K4"
   },
   "outputs": [],
   "source": [
    "from matplotlib import pyplot\n",
    "pyplot.figure(figsize=(10,3))\n",
    "ax = pyplot.subplot(121)\n",
    "# plot loss values of FC and CV network over epochs\n",
    "ax.plot(fc_loss, \"g-\", label=\"Fully-connecte loss\")\n",
    "ax.plot(cv_loss, \"b-\", label=\"Convolutional loss\")\n",
    "ax.set_xlabel(\"Epoch\")\n",
    "ax.legend()\n",
    "\n",
    "ax = pyplot.subplot(122)\n",
    "# plot accuracy values of FC and CV network over epochs\n",
    "ax.plot(fc_acc, \"g-\", label=\"Fully-connecte accuracy\")\n",
    "ax.plot(cv_acc, \"b-\", label=\"Convolutional accuracy\")\n",
    "ax.set_xlabel(\"Epoch\")\n",
    "ax.legend()"
   ]
  },
  {
   "cell_type": "markdown",
   "metadata": {
    "id": "qMjwgb_pqMV3"
   },
   "source": [
    "## 7. Compute the number of learnable parameters\n",
    "\n",
    " Analytically Estimate how many learnable parameters the two networks have.\n",
    "\n",
    "\n",
    "Fully-connected Network:\n",
    "- first fully-connected layer: 28 * 28 inputs * 100 hidden neurons + 1 bias\n",
    "- second fully-connected layer: 100 hidden neurons * 100 outpyts + 1 bias\n",
    "- third fully-connected layer: about 89400 + 1 \n",
    "- total: ...\n",
    "\n",
    "Convolutional Network:\n",
    "- first convolutional layer: 32 * 1 * 5 * 5 + 1\n",
    "- second convolutional layer: 64 * 32 * 5 * 5 + 1\n",
    "- fully-connected layer: 64 * 7 * 7 inputs * 10 outputs + 1 \n",
    "- total: 83360"
   ]
  },
  {
   "cell_type": "markdown",
   "metadata": {
    "id": "sgexnjd8rQcC"
   },
   "source": [
    "Compute the number of parameters in the networks by summing the number of parameters in each layer using pytorch functionality.\n",
    "Use the `numel()` function from a `torch.Tensor` to provide the number of (learnable) parameters stored in a tensor."
   ]
  },
  {
   "cell_type": "code",
   "execution_count": null,
   "metadata": {
    "id": "iU_xb_gMrTlG"
   },
   "outputs": [],
   "source": [
    "def parameter_count(network):\n",
    "  return sum(p.numel() for p in network.parameters())\n",
    "\n",
    "print(\"Fully-connected Network:\", parameter_count(fc))\n",
    "print(\"Convolutional Network:\", parameter_count(cv))"
   ]
  },
  {
   "cell_type": "markdown",
   "metadata": {
    "id": "eWQVsOWvrcvR"
   },
   "source": [
    "**Conclusion** : Even though fully-connected network has slightly more parameters, the performance of CNN is much better (one reason : FCN is shift-invariant) "
   ]
  }
 ],
 "metadata": {
  "accelerator": "GPU",
  "colab": {
   "provenance": []
  },
  "kernelspec": {
   "display_name": "Python 3 (ipykernel)",
   "language": "python",
   "name": "python3"
  },
  "language_info": {
   "codemirror_mode": {
    "name": "ipython",
    "version": 3
   },
   "file_extension": ".py",
   "mimetype": "text/x-python",
   "name": "python",
   "nbconvert_exporter": "python",
   "pygments_lexer": "ipython3",
   "version": "3.10.8"
  }
 },
 "nbformat": 4,
 "nbformat_minor": 1
}
